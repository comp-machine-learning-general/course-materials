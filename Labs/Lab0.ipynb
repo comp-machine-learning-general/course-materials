{
 "cells": [
  {
   "cell_type": "markdown",
   "metadata": {},
   "source": [
    "# Lab 0 - The Adventure Begins...\n",
    "\n",
    "_Note_: As discussed in the Google Docs starting file for this lab, Lab 0 has two versions: 1) an **assignment** version and 2) the usual **course materials** version. This is the 'usual' version of Lab 0. In general, completion of labs is completely up to you. Each lab will have a **final** thoughts question or request for a post to the #lab_submission channel on Slack. \n",
    "\n",
    "The overarching goal for this lab is to ensure that your computer is ready for the course. In this lab, we will:\n",
    "* Install git, get you connected to GitHub, and connect you the course. \n",
    "\n"
   ]
  },
  {
   "cell_type": "markdown",
   "metadata": {},
   "source": [
    "## Google Drive Preamble\n",
    "This lab is unusually in a number of ways. First and foremost, it starts on Google docs. Every lab following will be found on our GitHub Classroom. This first part of the lab will set you up to access our GitHub Classroom. \n",
    "\n",
    "For this first part of the lab, we will be reading and following sections of McFee and Kell’s [Open Source and Reproducible MIR Research Tutorial](https://bmcfee.github.io/ismir2018-oss-tutorial/about/) from the Conference of the International Society of Music Information Retrieval (ISMIR) 2018. Check in with this document frequently as I am having you skip over certain sections that are not exactly related to our course. \n",
    "\n",
    "0.  Complete [Part 1](https://bmcfee.github.io/ismir2018-oss-tutorial/tutorial/2018/08/16/part-1.html) of McFee and Kell’s Tutorial. You will have installed (or updated) both Anaconda and git.\n",
    "1.  Complete [Part 2](https://bmcfee.github.io/ismir2018-oss-tutorial/tutorial/2018/08/16/part-2.html) of McFee and Kell’s Tutorial. You will have gotten an ssh key, connected to GitHub and connected to Travis. \n",
    "2. Add a picture to your GitHub profile. This picture does not have to be of you, but it should not be one of the pixelated images that GitHub gives you by default. Also be sure that the image you choose is one that you have the right to use. \n",
    "\n",
    "\n",
    "#### STOP FOLLOWING McFEE AND KELL’S TUTORIAL HERE! DO NOT GO TO PART 3!!! \n",
    "\n",
    "3. Now we will connect with the GitHub Classroom. Here is the second way that this lab will be different than other labs. There are going to be two copies of this lab: \n",
    "   * The first is an assignment. In GitHub Classroom, assignments are very similar to those on Moodle, but they are “git-ified.” In other words, each assignment is its own repository that you will automatically clone into your own version. \n",
    "   * The second copy is part of our course materials repository. Course materials include daily slides, the labs, and other course wide documents. I will ask you to pull from this repository about once a week. You will not be creating your own version of these materials automatically. Instead, you will need to copy the downloaded files into another place to edit them.  \n",
    "   \n",
    "4. Getting the assignment copy of the lab: \n",
    "   * First, go here: \n",
    "   * Now you should have access to the next part of the lab. \n",
    "\n",
    "#### This is NOT the end! Follow the link for the next steps in your journey...\n"
   ]
  },
  {
   "cell_type": "markdown",
   "metadata": {},
   "source": [
    "## Checkpoint 1\n",
    "\n",
    "If you arrived here, then you have correctly set up git, connected to GitHub, and connected the course. Excellent work! \n",
    "\n",
    "Note that all materials for the course -- including labs, slides, homework -- will be on our GitHub Classroom. Moodle will rarely be used for our course **_except_** as the place where I will store all the grades for the course. \n",
    "\n",
    "\n",
    "**_Note_**: Moodle does not calculate your grade as I will at the end of the term. It's just not functionality that Moodle has. If you want to track in the style that I will at the end of term, please copy this form into your Google drive. "
   ]
  },
  {
   "cell_type": "code",
   "execution_count": null,
   "metadata": {},
   "outputs": [],
   "source": []
  }
 ],
 "metadata": {
  "kernelspec": {
   "display_name": "Python 3",
   "language": "python",
   "name": "python3"
  },
  "language_info": {
   "codemirror_mode": {
    "name": "ipython",
    "version": 3
   },
   "file_extension": ".py",
   "mimetype": "text/x-python",
   "name": "python",
   "nbconvert_exporter": "python",
   "pygments_lexer": "ipython3",
   "version": "3.7.3"
  }
 },
 "nbformat": 4,
 "nbformat_minor": 2
}
