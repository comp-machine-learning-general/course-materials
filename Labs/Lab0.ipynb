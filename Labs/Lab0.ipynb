{
 "cells": [
  {
   "cell_type": "markdown",
   "metadata": {},
   "source": [
    "# Lab 0\n",
    "\n",
    "The overarching goal for this lab is to ensure that your computer is ready for the course. In this lab, we will:\n",
    "* Install git, get you connected to GitHub, and connect you the course. \n",
    "\n"
   ]
  },
  {
   "cell_type": "markdown",
   "metadata": {},
   "source": [
    "## Checkpoint 1\n",
    "\n",
    "If you arrived here, then you have correctly set up git, connected to GitHub, and connected the course. Excellent work! \n",
    "\n",
    "Note that all materials for the course -- including labs, slides, homework -- will be on our GitHub Classroom. Moodle will rarely be used for our course **_except_** as the place where I will store all the grades for the course. \n",
    "\n",
    "\n",
    "**_Note_**: Moodle does not calculate your grade as I will at the end of the term. It's just not functionality that Moodle has. If you want to track in the style that I will at the end of term, please copy this form into your Google drive. "
   ]
  }
 ],
 "metadata": {
  "kernelspec": {
   "display_name": "Python 3",
   "language": "python",
   "name": "python3"
  },
  "language_info": {
   "codemirror_mode": {
    "name": "ipython",
    "version": 3
   },
   "file_extension": ".py",
   "mimetype": "text/x-python",
   "name": "python",
   "nbconvert_exporter": "python",
   "pygments_lexer": "ipython3",
   "version": "3.7.3"
  }
 },
 "nbformat": 4,
 "nbformat_minor": 2
}
