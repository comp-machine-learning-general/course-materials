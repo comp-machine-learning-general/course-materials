{
 "cells": [
  {
   "cell_type": "markdown",
   "metadata": {},
   "source": [
    "# Lab 3 \n",
    "\n",
    "This lab has three big goals:\n",
    "1. Develop more language for kinds of data\n",
    "2. Articulate the steps of _k-means_ in prose and code\n",
    "3. Discuse a few initial limitations of k-means"
   ]
  },
  {
   "cell_type": "markdown",
   "metadata": {},
   "source": [
    "## Unsupervised Learning\n",
    "\n",
    "There are two basic kinds of machine learning: supervised and unsupervised. When we say \"supervision\", we do not mean human supervised task; rather, we mean whether we are using outcomes to teach our algorithms (supervised machine learning) or (unsupervised machine learning). Most courses and texts begin with supervised learning, but in our course, we will begin with unsupervised learning. The most classic of the unsupervised learning algorithms is **k-means**. \n",
    "\n",
    "The ultimate goal of k-means is to determine which items group together. For this activity, I have created a **_fake_** dataset of Smith students. The variables in this dataset are:\n",
    "* GPA\n",
    "* Year\n",
    "* Birth Month\n",
    "* Number of hours slept\n",
    "* Favorite Color\n",
    "* Number of cups of coffee consumed on average\n"
   ]
  },
  {
   "cell_type": "markdown",
   "metadata": {},
   "source": [
    "### Step 0: What do we have?\n",
    "\n",
    "The first step in any data project is to make pictures of the data that you have. Jeff Huang at Brown University once said that he makes images until they no longer surprise him. I think this is a great way to tell if you just \"know\" your data or if you _know_ your data. \n",
    "\n",
    "Start by generating at least 3 plots of your data. Show your images to someone near you."
   ]
  },
  {
   "cell_type": "code",
   "execution_count": 1,
   "metadata": {},
   "outputs": [],
   "source": [
    "# Import block\n",
    "# What packages do you want?\n",
    "\n"
   ]
  },
  {
   "cell_type": "code",
   "execution_count": 2,
   "metadata": {},
   "outputs": [],
   "source": [
    "# Importing data\n",
    "# How would you like to load the data? \n",
    "#     (Note why *you* made this choice)\n",
    "\n",
    "students = \n",
    "\n"
   ]
  },
  {
   "cell_type": "code",
   "execution_count": 4,
   "metadata": {},
   "outputs": [],
   "source": [
    "# Make picture one\n",
    "\n"
   ]
  },
  {
   "cell_type": "code",
   "execution_count": null,
   "metadata": {},
   "outputs": [],
   "source": [
    "# Make picture two\n",
    "\n"
   ]
  },
  {
   "cell_type": "code",
   "execution_count": 6,
   "metadata": {},
   "outputs": [],
   "source": [
    "# Make picture three\n",
    "\n"
   ]
  },
  {
   "cell_type": "markdown",
   "metadata": {},
   "source": [
    "Looking at your images and the person near you, what do you notice about this dataset? Write a few observations"
   ]
  },
  {
   "cell_type": "markdown",
   "metadata": {},
   "source": [
    "_Markdown Block for you!_\n",
    "\n"
   ]
  },
  {
   "cell_type": "markdown",
   "metadata": {},
   "source": [
    "## k-Means\n",
    "### Our first machine learning algorithm\n",
    "\n",
    "The goal of k-means is to find $k$ clusters. We input the dataset and the number of clusers that we believe exist in the data, then k-means seeks to partition the data into that number of clusters. The basic outline is as follows:\n",
    "\n",
    "0. Initialize $k$ centers of the 0<sup>th</sup> clusters   \n",
    "Repeat the following until convergence/stopping condition/maximum iterations: \n",
    "   1. Assign each datapoint to the closest center.    \n",
    "      The subset of the datapoints assigned to each center is the _cluster_ for that center.\n",
    "   2. For each cluster, re-compute the center. "
   ]
  },
  {
   "cell_type": "markdown",
   "metadata": {},
   "source": [
    "### Your turn\n",
    "\n",
    "In the below code block, write pseudo code for the steps for k-means\n"
   ]
  },
  {
   "cell_type": "code",
   "execution_count": 7,
   "metadata": {},
   "outputs": [],
   "source": [
    "# Code block for pseudo code"
   ]
  },
  {
   "cell_type": "markdown",
   "metadata": {},
   "source": [
    "### Preparing the data\n",
    "\n",
    "For the next part of this lab, we are going to select just two columns of our data set. "
   ]
  },
  {
   "cell_type": "code",
   "execution_count": null,
   "metadata": {},
   "outputs": [],
   "source": []
  }
 ],
 "metadata": {
  "kernelspec": {
   "display_name": "Python 3",
   "language": "python",
   "name": "python3"
  },
  "language_info": {
   "codemirror_mode": {
    "name": "ipython",
    "version": 3
   },
   "file_extension": ".py",
   "mimetype": "text/x-python",
   "name": "python",
   "nbconvert_exporter": "python",
   "pygments_lexer": "ipython3",
   "version": "3.7.3"
  }
 },
 "nbformat": 4,
 "nbformat_minor": 2
}
