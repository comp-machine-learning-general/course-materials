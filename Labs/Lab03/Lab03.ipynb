{
 "cells": [
  {
   "cell_type": "markdown",
   "metadata": {},
   "source": [
    "# Lab 3 \n",
    "\n",
    "This lab has three big goals:\n",
    "1. Develop more language for kinds of data\n",
    "2. Articulate the steps of _k-means_ in prose and code\n",
    "3. Discuse a few initial limitations of k-means"
   ]
  },
  {
   "cell_type": "markdown",
   "metadata": {},
   "source": [
    "## Unsupervised Learning\n",
    "\n",
    "There are two basic kinds of machine learning: supervised and unsupervised. When we say \"supervision\", we do not mean human supervised task; rather, we mean whether we are using outcomes to teach our algorithms (supervised machine learning) or (unsupervised machine learning). Most courses and texts begin with supervised learning, but in our course, we will begin with unsupervised learning. The most classic of the unsupervised learning algorithms is **k-means**. \n",
    "\n",
    "The ultimate goal of k-means is to determine which items group together. For this activity, I have created a **_fake_** dataset of Smith students. The variables in this dataset are:\n",
    "* GPA\n",
    "* Year\n",
    "* Birth Month\n",
    "* Average Number of hours slept\n",
    "* Favorite Color\n",
    "* Average cups of coffee per day\n"
   ]
  },
  {
   "cell_type": "markdown",
   "metadata": {},
   "source": [
    "### Step 0: What do we have?\n",
    "\n",
    "The first step in any data project is to make pictures of the data that you have. Jeff Huang at Brown University once said that he makes images until they no longer surprise him. I think this is a great way to tell if you just \"know\" your data or if you _know_ your data. \n",
    "\n",
    "Start by generating at least 3 plots of your data. Show your images to someone near you."
   ]
  },
  {
   "cell_type": "code",
   "execution_count": 20,
   "metadata": {},
   "outputs": [],
   "source": [
    "# Import block\n",
    "# What packages do you want?\n",
    "%matplotlib inline\n",
    "from sklearn.datasets.samples_generator import make_blobs\n",
    "import numpy as np\n",
    "import pandas as pd\n",
    "import matplotlib.pyplot as plt\n",
    "import seaborn as sns; sns.set()\n",
    "import scipy m .                                                                                           "
   ]
  },
  {
   "cell_type": "code",
   "execution_count": null,
   "metadata": {},
   "outputs": [],
   "source": [
    "# Importing data\n",
    "# How would you like to load the data? \n",
    "#     (Note why *you* made this choice)\n",
    "\n",
    "students = "
   ]
  },
  {
   "cell_type": "code",
   "execution_count": 4,
   "metadata": {},
   "outputs": [],
   "source": [
    "# Make picture one\n",
    "\n"
   ]
  },
  {
   "cell_type": "code",
   "execution_count": null,
   "metadata": {},
   "outputs": [],
   "source": [
    "# Make picture two\n",
    "\n"
   ]
  },
  {
   "cell_type": "code",
   "execution_count": 6,
   "metadata": {},
   "outputs": [],
   "source": [
    "# Make picture three\n",
    "\n"
   ]
  },
  {
   "cell_type": "markdown",
   "metadata": {},
   "source": [
    "Looking at your images and the person near you, what do you notice about this dataset? Write a few observations"
   ]
  },
  {
   "cell_type": "markdown",
   "metadata": {},
   "source": [
    "_Markdown Block for you!_\n",
    "\n"
   ]
  },
  {
   "cell_type": "markdown",
   "metadata": {},
   "source": [
    "## k-Means\n",
    "### Our first machine learning algorithm\n",
    "\n",
    "The goal of k-means is to find $k$ clusters. We input the dataset and the number of clusers that we believe exist in the data, then k-means seeks to partition the data into that number of clusters. The basic outline is as follows:\n",
    "\n",
    "0. Initialize $k$ centers of the 0<sup>th</sup> clusters   \n",
    "Repeat the following until convergence/stopping condition/maximum iterations: \n",
    "   1. Assign each datapoint to the closest center.    \n",
    "      The subset of the datapoints assigned to each center is the _cluster_ for that center.\n",
    "   2. For each cluster, re-compute the center. "
   ]
  },
  {
   "cell_type": "markdown",
   "metadata": {},
   "source": [
    "### Preparing the data\n",
    "\n",
    "For the next part of this lab, we are going to select just two columns of our data set. Let's create a new data frame called `justtwo` that has only the `coffee` and `sleep` variables. Note that you want to **return** a dataframe in this action."
   ]
  },
  {
   "cell_type": "code",
   "execution_count": 19,
   "metadata": {},
   "outputs": [],
   "source": [
    "# Creating a new dataframe `justtwo`\n",
    "\n",
    "justtwo = students[['coffee','sleep']]\n",
    "\n",
    "# Be sure to check what you created! Perhaps by looking at the top of the data\n",
    "\n",
    "\n"
   ]
  },
  {
   "cell_type": "markdown",
   "metadata": {},
   "source": [
    "Before moving on, create a plot of coffee vs. sleep and decide how many clusters you think exists in this data. "
   ]
  },
  {
   "cell_type": "code",
   "execution_count": 17,
   "metadata": {},
   "outputs": [
    {
     "data": {
      "image/png": "[encoded data removed]",
      "text/plain": [
       "<Figure size 432x288 with 1 Axes>"
      ]
     },
     "metadata": {
      "needs_background": "light"
     },
     "output_type": "display_data"
    }
   ],
   "source": [
    "# Make a plot here\n",
    "\n",
    "\n"
   ]
  },
  {
   "cell_type": "markdown",
   "metadata": {},
   "source": [
    "Given your plot, how many clusters do you think there are in this data? \n",
    "\n",
    "**Wait here to come together as a group**"
   ]
  },
  {
   "cell_type": "markdown",
   "metadata": {},
   "source": [
    "## Step 0 - Initialize clusters' centers\n",
    "\n",
    "There are a few ways to initialize this algorithm. We can:\n",
    "1. Start by placing $k$ centers anyway on the area covered by our data. This choice means that these initial centers are not points within our data. \n",
    "2. Choose $k$ of our datapoints to serve as initial cluster centers. \n",
    "\n",
    "It does not really matter which you do, but many algorithms begin with datapoints within the dataset. In the below block we use `.sample()` to help us do this. "
   ]
  },
  {
   "cell_type": "code",
   "execution_count": 24,
   "metadata": {},
   "outputs": [
    {
     "data": {
      "text/html": [
       "<div>\n",
       "<style scoped>\n",
       "    .dataframe tbody tr th:only-of-type {\n",
       "        vertical-align: middle;\n",
       "    }\n",
       "\n",
       "    .dataframe tbody tr th {\n",
       "        vertical-align: top;\n",
       "    }\n",
       "\n",
       "    .dataframe thead th {\n",
       "        text-align: right;\n",
       "    }\n",
       "</style>\n",
       "<table border=\"1\" class=\"dataframe\">\n",
       "  <thead>\n",
       "    <tr style=\"text-align: right;\">\n",
       "      <th></th>\n",
       "      <th>coffee</th>\n",
       "      <th>sleep</th>\n",
       "    </tr>\n",
       "  </thead>\n",
       "  <tbody>\n",
       "    <tr>\n",
       "      <th>189</th>\n",
       "      <td>2.0</td>\n",
       "      <td>5.61</td>\n",
       "    </tr>\n",
       "    <tr>\n",
       "      <th>123</th>\n",
       "      <td>0.3</td>\n",
       "      <td>6.84</td>\n",
       "    </tr>\n",
       "  </tbody>\n",
       "</table>\n",
       "</div>"
      ],
      "text/plain": [
       "     coffee  sleep\n",
       "189     2.0   5.61\n",
       "123     0.3   6.84"
      ]
     },
     "execution_count": 24,
     "metadata": {},
     "output_type": "execute_result"
    }
   ],
   "source": [
    "# Choose k data points to act as the initial clusters for k-means\n",
    "\n",
    "centers= justtwo.sample(2, random_state = 1)\n",
    "centers"
   ]
  },
  {
   "cell_type": "markdown",
   "metadata": {},
   "source": [
    "Find the output on your above plot. Are you happy with those as centers of the clusters? "
   ]
  },
  {
   "cell_type": "markdown",
   "metadata": {},
   "source": [
    "## Repeating steps\n",
    "\n",
    "### Step 1 (repeats) - Assign each data point to the closest center\n",
    "_Note_ we are going to do this without optimization. The goal is to understand the _theory_ of what is happening. \n",
    "\n",
    "In the below code block, sketch out how you would like to do this in comments:"
   ]
  },
  {
   "cell_type": "code",
   "execution_count": null,
   "metadata": {},
   "outputs": [],
   "source": [
    "# Pseudo code"
   ]
  },
  {
   "cell_type": "markdown",
   "metadata": {},
   "source": [
    "#### In pieces\n",
    "\n",
    "While it is easy to say \"assign each data point to the closest center\", the act of doing this in code takes a few steps. For each datapoint, we need to:\n",
    "1. Compute the distance from the datapoint to each of the centers\n",
    "2. Figure out which one is the smallest distance\n",
    "3. Assign the center with the smallest distance to the data point"
   ]
  },
  {
   "cell_type": "markdown",
   "metadata": {},
   "source": [
    "The \"usual\" distance is called Euclidean distance. \n"
   ]
  },
  {
   "cell_type": "markdown",
   "metadata": {},
   "source": [
    "#### Resources Consulted\n",
    "\n",
    "0. _Python for Data Analysis_\n",
    "1. _Data Science from Scratch_ by Joel Grus\n",
    "2. [pandas sample helpfile](https://pandas.pydata.org/pandas-docs/stable/reference/api/pandas.DataFrame.sample.html)"
   ]
  },
  {
   "cell_type": "code",
   "execution_count": null,
   "metadata": {},
   "outputs": [],
   "source": []
  }
 ],
 "metadata": {
  "kernelspec": {
   "display_name": "Python 3",
   "language": "python",
   "name": "python3"
  },
  "language_info": {
   "codemirror_mode": {
    "name": "ipython",
    "version": 3
   },
   "file_extension": ".py",
   "mimetype": "text/x-python",
   "name": "python",
   "nbconvert_exporter": "python",
   "pygments_lexer": "ipython3",
   "version": "3.7.3"
  }
 },
 "nbformat": 4,
 "nbformat_minor": 2
}
