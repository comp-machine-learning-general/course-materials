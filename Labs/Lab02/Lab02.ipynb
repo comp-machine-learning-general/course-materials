{
 "cells": [
  {
   "cell_type": "markdown",
   "metadata": {},
   "source": [
    "# Lab 2\n",
    "\n",
    "After Lab 1, you should be able to import data, be able to determine a few quick facts about that data, and articulate the purpose of unit testing. Today we going to extend on our work from last time. Our goals are to:\n",
    "1. Use Travis for Continuous Integration\n",
    "2. Use `pandas` to select parts of data, and \n",
    "3. Use `matplotlib`, `pandas`, and `seaborn` to make images.  "
   ]
  },
  {
   "cell_type": "markdown",
   "metadata": {},
   "source": [
    "### Before starting...\n",
    "\n",
    "A few questions before we begin:\n",
    "* Do you need to `pull` anything? \n",
    "* Do you need to copy anything into a folder? \n",
    "* Are you in the right `env`ironment? \n",
    "\n",
    "<sub>These reminders will smaller and smaller as we get used to the flow of this course.</sub>"
   ]
  },
  {
   "cell_type": "markdown",
   "metadata": {},
   "source": [
    "## Continuous integration with Travis\n",
    "\n",
    "In Lab 1, we learned about unit testing. We were able to create and locally run our unit tests. Now we will shift to using Travis to continuously test our code against the unit tests. This rest of this section is based off instructions from [Part 5](https://bmcfee.github.io/ismir2018-oss-tutorial/tutorial/2018/08/12/part-5.html) of McFee and Kell's Open MIR Tutorial. \n",
    "\n",
    "For this part, I have created an assignment called `lab2-travis`. Just as you did for Lab 0, please click on [this link](https://classroom.github.com/a/qXz4EMwu) and create your own local repository. In this repo, you will find three files:\n",
    "1. `.gitignore`,\n",
    "2. `requirements.txt`, and \n",
    "3. `.travis.yml`. \n",
    "This second hidden file \"tells the Travis servers what to do with your code - in our case, just run the tests\" says [McFee and Kell](https://bmcfee.github.io/ismir2018-oss-tutorial/tutorial/2018/08/12/part-5.html). \n",
    "\n",
    "Add your two python files from lab 1 (not the jupyter notebooks) and the data file to this directory. Commit your changes. \n",
    "\n",
    "Now we need to trace your repository on Travis:\n",
    "1. Visit https://travis-ci.org/profile/<your-github-user-name>. You will list of repositories, and `lab2-travis` will not be there. \n",
    "2. All the repos for this class, including `lab2-travis`, are private. Right below your github name, you will see **Repositories** and a note that reads \"We're only showing your public repositories. You can find your private projects on travis-ci.com .\" Click the travis-ci.com link. \n",
    "3. You should now see a panel on the left side that has \"My Repositories\" and \"Running (#/#)\" at the top. Click on the \"Running\" link, you should see yellow text and your repo. \n",
    "    \n",
    "Travis uses color to tell you want is happening:    \n",
    "<font color='yellow'>**Yellow**</font> means that Travis is thinking   \n",
    "<font color='red'>**Red**</font> means that either the build or the tests have failed   \n",
    "<font color='green'>**Green**</font> means that the build and the tests have worked!    \n",
    "\n",
    "For Travis to \"build\" things correctly, you will need to have both `requirements.txt` and `.travis.yml`. The later has three parts. As [McFee and Kell](https://bmcfee.github.io/ismir2018-oss-tutorial/tutorial/2018/08/12/part-5.html) summarize \"The `install` block handles the gruntwork of installing everything, and the `script` block is what Travis runs. We currently just run `pytest`.\" The `requirements.txt` file adds the packages that we need in our python environment. \n",
    "\n",
    "Check out [Part 5](https://bmcfee.github.io/ismir2018-oss-tutorial/tutorial/2018/08/12/part-5.html) of McFee and Kell's Open MIR Tutorial for more tips and especially the \"Gotchas\" note. \n",
    "\n",
    "For homework 1, you will need to submit green boxes showing that you have correctly linked your repo to Travis and that your tests pass. "
   ]
  },
  {
   "cell_type": "markdown",
   "metadata": {},
   "source": [
    "### Preparing to code today\n",
    "\n",
    "We need an extra package today: `seaborn`. Please use `conda` to add this to your environment. "
   ]
  },
  {
   "cell_type": "code",
   "execution_count": 38,
   "metadata": {},
   "outputs": [],
   "source": [
    "%matplotlib inline\n",
    "\n",
    "import numpy as np \n",
    "import pandas as pd\n",
    "import matplotlib.pyplot as plt\n",
    "import seaborn as sns"
   ]
  },
  {
   "cell_type": "markdown",
   "metadata": {},
   "source": [
    "## Selecting subsets with `pandas`\n",
    "\n",
    "In Lab 1, we learned about data frame structure within `pandas` and for class today, you read about some of the functionalities of `pandas`. Today, we will practice various kinds of slicing and how we can create new dataframes from previous ones.  "
   ]
  },
  {
   "cell_type": "markdown",
   "metadata": {},
   "source": [
    "Let us start by importing the Forest Fires dataset from Lab 0 and reminding ourselves of what the first 5 rows look like. Add the `forestfire` file to the directory that you are using to work on Lab 2. "
   ]
  },
  {
   "cell_type": "code",
   "execution_count": 47,
   "metadata": {},
   "outputs": [
    {
     "data": {
      "text/html": [
       "<div>\n",
       "<style scoped>\n",
       "    .dataframe tbody tr th:only-of-type {\n",
       "        vertical-align: middle;\n",
       "    }\n",
       "\n",
       "    .dataframe tbody tr th {\n",
       "        vertical-align: top;\n",
       "    }\n",
       "\n",
       "    .dataframe thead th {\n",
       "        text-align: right;\n",
       "    }\n",
       "</style>\n",
       "<table border=\"1\" class=\"dataframe\">\n",
       "  <thead>\n",
       "    <tr style=\"text-align: right;\">\n",
       "      <th></th>\n",
       "      <th>X</th>\n",
       "      <th>Y</th>\n",
       "      <th>month</th>\n",
       "      <th>day</th>\n",
       "      <th>FFMC</th>\n",
       "      <th>DMC</th>\n",
       "      <th>DC</th>\n",
       "      <th>ISI</th>\n",
       "      <th>temp</th>\n",
       "      <th>RH</th>\n",
       "      <th>wind</th>\n",
       "      <th>rain</th>\n",
       "      <th>area</th>\n",
       "    </tr>\n",
       "  </thead>\n",
       "  <tbody>\n",
       "    <tr>\n",
       "      <td>0</td>\n",
       "      <td>7</td>\n",
       "      <td>5</td>\n",
       "      <td>mar</td>\n",
       "      <td>fri</td>\n",
       "      <td>86.2</td>\n",
       "      <td>26.2</td>\n",
       "      <td>94.3</td>\n",
       "      <td>5.1</td>\n",
       "      <td>8.2</td>\n",
       "      <td>51</td>\n",
       "      <td>6.7</td>\n",
       "      <td>0.0</td>\n",
       "      <td>0.0</td>\n",
       "    </tr>\n",
       "    <tr>\n",
       "      <td>1</td>\n",
       "      <td>7</td>\n",
       "      <td>4</td>\n",
       "      <td>oct</td>\n",
       "      <td>tue</td>\n",
       "      <td>90.6</td>\n",
       "      <td>35.4</td>\n",
       "      <td>669.1</td>\n",
       "      <td>6.7</td>\n",
       "      <td>18.0</td>\n",
       "      <td>33</td>\n",
       "      <td>0.9</td>\n",
       "      <td>0.0</td>\n",
       "      <td>0.0</td>\n",
       "    </tr>\n",
       "    <tr>\n",
       "      <td>2</td>\n",
       "      <td>7</td>\n",
       "      <td>4</td>\n",
       "      <td>oct</td>\n",
       "      <td>sat</td>\n",
       "      <td>90.6</td>\n",
       "      <td>43.7</td>\n",
       "      <td>686.9</td>\n",
       "      <td>6.7</td>\n",
       "      <td>14.6</td>\n",
       "      <td>33</td>\n",
       "      <td>1.3</td>\n",
       "      <td>0.0</td>\n",
       "      <td>0.0</td>\n",
       "    </tr>\n",
       "    <tr>\n",
       "      <td>3</td>\n",
       "      <td>8</td>\n",
       "      <td>6</td>\n",
       "      <td>mar</td>\n",
       "      <td>fri</td>\n",
       "      <td>91.7</td>\n",
       "      <td>33.3</td>\n",
       "      <td>77.5</td>\n",
       "      <td>9.0</td>\n",
       "      <td>8.3</td>\n",
       "      <td>97</td>\n",
       "      <td>4.0</td>\n",
       "      <td>0.2</td>\n",
       "      <td>0.0</td>\n",
       "    </tr>\n",
       "    <tr>\n",
       "      <td>4</td>\n",
       "      <td>8</td>\n",
       "      <td>6</td>\n",
       "      <td>mar</td>\n",
       "      <td>sun</td>\n",
       "      <td>89.3</td>\n",
       "      <td>51.3</td>\n",
       "      <td>102.2</td>\n",
       "      <td>9.6</td>\n",
       "      <td>11.4</td>\n",
       "      <td>99</td>\n",
       "      <td>1.8</td>\n",
       "      <td>0.0</td>\n",
       "      <td>0.0</td>\n",
       "    </tr>\n",
       "  </tbody>\n",
       "</table>\n",
       "</div>"
      ],
      "text/plain": [
       "   X  Y month  day  FFMC   DMC     DC  ISI  temp  RH  wind  rain  area\n",
       "0  7  5   mar  fri  86.2  26.2   94.3  5.1   8.2  51   6.7   0.0   0.0\n",
       "1  7  4   oct  tue  90.6  35.4  669.1  6.7  18.0  33   0.9   0.0   0.0\n",
       "2  7  4   oct  sat  90.6  43.7  686.9  6.7  14.6  33   1.3   0.0   0.0\n",
       "3  8  6   mar  fri  91.7  33.3   77.5  9.0   8.3  97   4.0   0.2   0.0\n",
       "4  8  6   mar  sun  89.3  51.3  102.2  9.6  11.4  99   1.8   0.0   0.0"
      ]
     },
     "execution_count": 47,
     "metadata": {},
     "output_type": "execute_result"
    }
   ],
   "source": [
    "ffire = pd.read_csv(\"forestfires.csv\", sep=',')\n",
    "ffire.head()"
   ]
  },
  {
   "cell_type": "markdown",
   "metadata": {},
   "source": [
    "Here we have a small snapshot of our data. Before moving on, what do you think the **bold** means? (Make a few notes below)"
   ]
  },
  {
   "cell_type": "markdown",
   "metadata": {},
   "source": [
    "In `pandas` we can select slices of our data either by row or by column using either the names or counters. \n",
    "\n",
    "### Selecting by Row\n",
    "\n",
    "The two most common ways to access rows are by using `.loc` and `.iloc`, which stand for [_location_](https://pandas.pydata.org/pandas-docs/stable/reference/api/pandas.DataFrame.loc.html) and [_index location_](https://pandas.pydata.org/pandas-docs/stable/reference/api/pandas.DataFrame.iloc.html), respectively. \n",
    "\n",
    "In this data, the names of the row indices are the same as the counter. So we will find that we can access each row in _nearly_ identical ways. Note that this is quite _**unusual**_. \n",
    "\n",
    "The general format for `loc` and `iloc` is row information first, followed by column selections (if desired). Try the below examples and note 1) how they are different and 2) what the arguments are:"
   ]
  },
  {
   "cell_type": "code",
   "execution_count": null,
   "metadata": {},
   "outputs": [],
   "source": [
    "ffire.loc[2]"
   ]
  },
  {
   "cell_type": "code",
   "execution_count": null,
   "metadata": {},
   "outputs": [],
   "source": [
    "ffire.loc[2,'month']"
   ]
  },
  {
   "cell_type": "code",
   "execution_count": null,
   "metadata": {},
   "outputs": [],
   "source": [
    "ffire.loc[[0,2,5]]"
   ]
  },
  {
   "cell_type": "code",
   "execution_count": null,
   "metadata": {},
   "outputs": [],
   "source": [
    "ffire.loc[0:5,'month']"
   ]
  },
  {
   "cell_type": "code",
   "execution_count": null,
   "metadata": {},
   "outputs": [],
   "source": [
    "ffire.loc[0:5,['month', 'wind', 'day']]"
   ]
  },
  {
   "cell_type": "code",
   "execution_count": null,
   "metadata": {},
   "outputs": [],
   "source": [
    "ffire.loc[[0,2,5],['month', 'wind', 'day']]"
   ]
  },
  {
   "cell_type": "markdown",
   "metadata": {},
   "source": [
    "**Note**!!!! `.loc` does not slice in the usual manner for `python`. Notice that the last index is _included_. This is very unusual. "
   ]
  },
  {
   "cell_type": "markdown",
   "metadata": {},
   "source": [
    "So far we have just used `.loc`. Repeat all the above examples using `.iloc`; do they all work? "
   ]
  },
  {
   "cell_type": "code",
   "execution_count": null,
   "metadata": {},
   "outputs": [],
   "source": [
    "# Code Block for you!\n",
    "\n"
   ]
  },
  {
   "cell_type": "markdown",
   "metadata": {},
   "source": [
    "The big difference between `.loc` and `.iloc` is that the first expects the index _names_ for both the rows and the columns, while the second expects the index _numbers_. So to make `.iloc` work, we need to have the index number for each column. Try again below:\n"
   ]
  },
  {
   "cell_type": "code",
   "execution_count": null,
   "metadata": {},
   "outputs": [],
   "source": [
    "# Code Block for you!\n",
    "\n"
   ]
  },
  {
   "cell_type": "markdown",
   "metadata": {},
   "source": [
    "### Selecting by Column\n",
    "\n",
    "Extending the ideas from before, we can extend the ideas from above using `.loc` and `.iloc`, to get the full columns (ie. all the rows). How might you do this? Experiment with the two below blocks: "
   ]
  },
  {
   "cell_type": "code",
   "execution_count": null,
   "metadata": {},
   "outputs": [],
   "source": [
    "ffire.loc[?????,['month', 'wind', 'day']]"
   ]
  },
  {
   "cell_type": "code",
   "execution_count": null,
   "metadata": {},
   "outputs": [],
   "source": [
    "ffire.iloc[?????,[2,10,3]]"
   ]
  },
  {
   "cell_type": "markdown",
   "metadata": {},
   "source": [
    "Another way to access the columns uses `[]` to do our slicing:"
   ]
  },
  {
   "cell_type": "code",
   "execution_count": null,
   "metadata": {},
   "outputs": [],
   "source": [
    "ffire[['month', 'wind', 'day']]"
   ]
  },
  {
   "cell_type": "markdown",
   "metadata": {},
   "source": [
    "### Your turn\n",
    "\n",
    "Experiment with selecting different parts of the forest fire dataset in the below code block. \n",
    "\n",
    "Also, note that this is just the beginning of what we can do with `pandas`. "
   ]
  },
  {
   "cell_type": "code",
   "execution_count": null,
   "metadata": {},
   "outputs": [],
   "source": [
    "# Code Block for you!\n",
    "\n"
   ]
  },
  {
   "cell_type": "markdown",
   "metadata": {},
   "source": [
    "## Getting started with `matplotlib`\n",
    "\n",
    "For this course, most of our visualizations will be built using `matplotlib`. There is another language called MATLAB which can be used for scientific computing (of largely numerical data). MATLAB is optimized for matrix and vector operations, but unlike python, it is not freely available. Along with its powerful computational tools, MATLAB can create data-based images. As the transition away from MATLAB and towards python began, there was a need for all the functionality of MATLAB to exist within python. So the creation and popularity of `matplotlib` makes a lot of historical sense. \n",
    "\n",
    "In this section, we will just begin to scratch the surface of what `matplotlib` can do. This section of the lab is based on Chapter 9 of _Python for Data Analysis_ applied to the [forest fires dataset](http://archive.ics.uci.edu/ml/datasets/Forest+Fires). "
   ]
  },
  {
   "cell_type": "markdown",
   "metadata": {},
   "source": [
    "### Importing `matplotlib`\n",
    "\n",
    "You might notice three new lines in our import block.\n",
    "1. `%matplotlib inline` allows our plots to show up inline within our jupyter notebook    \n",
    "   Note - This **must** come before importing _matplotlib_\n",
    "2. `import matplotlib.pyplot as plt` imports the plotting part of _matplotlib_\n",
    "3. `import seaborn as sns` imports _seaborn_ for our plots using _pandas_"
   ]
  },
  {
   "cell_type": "raw",
   "metadata": {},
   "source": [
    "For this first part, we will import our forest fire data as a `numpy` array:"
   ]
  },
  {
   "cell_type": "code",
   "execution_count": 2,
   "metadata": {},
   "outputs": [],
   "source": [
    "# Import forest fire data as a numpy array\n",
    "\n",
    "ffire_np = np.genfromtxt(\"forestfires.csv\",delimiter=\",\",skip_header=1)"
   ]
  },
  {
   "cell_type": "markdown",
   "metadata": {},
   "source": [
    "### First plot\n",
    "\n",
    "In `jupyter` we have to do everything for our plots in one code block. So I will be adding comments within the next code block to explain each line. "
   ]
  },
  {
   "cell_type": "code",
   "execution_count": 45,
   "metadata": {},
   "outputs": [
    {
     "data": {
      "text/plain": [
       "<matplotlib.collections.PathCollection at 0x1145ebc88>"
      ]
     },
     "execution_count": 45,
     "metadata": {},
     "output_type": "execute_result"
    },
    {
     "data": {
      "image/png": "[encoded data removed]",
      "text/plain": [
       "<Figure size 432x288 with 3 Axes>"
      ]
     },
     "metadata": {
      "needs_background": "light"
     },
     "output_type": "display_data"
    }
   ],
   "source": [
    "# Create the figure\n",
    "# In MATLAB, as in `matplotlib`, plots exist within Figure objects.\n",
    "fig = plt.figure()\n",
    "\n",
    "# Create each of the subplots in their locations\n",
    "ax1 = fig.add_subplot(2,2,1)\n",
    "ax2 = fig.add_subplot(2,2,2)\n",
    "ax3 = fig.add_subplot(2,2,3)\n",
    "\n",
    "# Plot the wind column in order by the rows\n",
    "# Q1: Where is this plot placed? \n",
    "# Q2: Would it stay there if you changed the order of the 'ax' lines?\n",
    "plt.plot(ffire_np[:,10], \"k--\")\n",
    "\n",
    "# Create a histogram of the wind information\n",
    "_ = ax1.hist(ffire_np[:,10], bins=10, color=\"b\", alpha = 0.3)\n",
    "\n",
    "# Create a scatter plot of the X and Y columns\n",
    "ax2.scatter(ffire_np[:,0], ffire_np[:,1])"
   ]
  },
  {
   "cell_type": "markdown",
   "metadata": {},
   "source": [
    "There is a lot that `matplotlib` can do, as seen in the [matplotlib gallery](https://matplotlib.org/gallery.html). But like MATLAB and `numpy`, it is limited to largely numerical data. For example, notice that we had to count to where the 'wind' column was to access it. \n",
    "\n",
    "If we want additional functionality, we are going to make use of some `pandas` functionality as well as the `seaborn` package. "
   ]
  },
  {
   "cell_type": "markdown",
   "metadata": {},
   "source": [
    "## Quick plots with `pandas`\n",
    "\n",
    "We can make a few quick plots on our `pandas` data frames. Notice that these are built on top of `matplotlib`. "
   ]
  },
  {
   "cell_type": "code",
   "execution_count": 56,
   "metadata": {},
   "outputs": [
    {
     "data": {
      "text/plain": [
       "array([[<matplotlib.axes._subplots.AxesSubplot object at 0x114edcb38>]],\n",
       "      dtype=object)"
      ]
     },
     "execution_count": 56,
     "metadata": {},
     "output_type": "execute_result"
    },
    {
     "data": {
      "image/png": "[encoded data removed]",
      "text/plain": [
       "<Figure size 432x288 with 1 Axes>"
      ]
     },
     "metadata": {
      "needs_background": "light"
     },
     "output_type": "display_data"
    }
   ],
   "source": [
    "ffire.hist('wind',bins = 10)"
   ]
  },
  {
   "cell_type": "code",
   "execution_count": 55,
   "metadata": {},
   "outputs": [
    {
     "data": {
      "text/plain": [
       "<matplotlib.axes._subplots.AxesSubplot at 0x114bd0080>"
      ]
     },
     "execution_count": 55,
     "metadata": {},
     "output_type": "execute_result"
    },
    {
     "data": {
      "image/png": "[encoded data removed]",
      "text/plain": [
       "<Figure size 432x288 with 1 Axes>"
      ]
     },
     "metadata": {
      "needs_background": "light"
     },
     "output_type": "display_data"
    }
   ],
   "source": [
    "ffire.plot('X','Y','scatter')"
   ]
  },
  {
   "cell_type": "markdown",
   "metadata": {},
   "source": [
    "## More control with `seaborn`\n",
    "\n",
    "The above plots are great first images, but we may want to generate more complex plots with layers. This is where we reach for `seaborn` which is built on top of `matplotlib` (similar to how `pandas` is built on `numpy`).\n",
    "\n",
    "In this section, I am referencing the [scatterplot](https://seaborn.pydata.org/generated/seaborn.scatterplot.html) and [stripplot](https://seaborn.pydata.org/generated/seaborn.stripplot.html) helpfiles for `seaborn`."
   ]
  },
  {
   "cell_type": "markdown",
   "metadata": {},
   "source": [
    "#### Resources consulted to build this lab:\n",
    "\n",
    "1. [Part 5](https://bmcfee.github.io/ismir2018-oss-tutorial/tutorial/2018/08/12/part-5.html) of McFee and Kell's Open MIR Tutorial\n",
    "2. Wikipedia about [hidden files](https://en.wikipedia.org/wiki/Hidden_file_and_hidden_directory)\n",
    "3. [Ignoring Files and Directories in Git with .gitignore](https://www.jamescoyle.net/how-to/1094-ignoring-files-in-git-with-gitignore)\n",
    "4. Stackoverflow question about ipynb checkpoints: [How to git ignore ipython notebook checkpoints anywhere in repository](https://stackoverflow.com/questions/35916658/how-to-git-ignore-ipython-notebook-checkpoints-anywhere-in-repository)\n",
    "5. [Selecting Subsets of Data in Pandas: Part 1](https://medium.com/dunder-data/selecting-subsets-of-data-in-pandas-6fcd0170be9c)\n",
    "6. [Using matplotlib in jupyter notebooks — comparing methods and some tips [Python]](https://medium.com/@1522933668924/using-matplotlib-in-jupyter-notebooks-comparing-methods-and-some-tips-python-c38e85b40ba1)\n",
    "7. [04.00-Introduction-To-Matplotlib.ipynb](https://colab.research.google.com/github/jakevdp/PythonDataScienceHandbook/blob/master/notebooks/04.00-Introduction-To-Matplotlib.ipynb)\n",
    "8. [plot in pandas](https://pandas.pydata.org/pandas-docs/version/0.23.4/generated/pandas.DataFrame.plot.html)\n",
    "9. [seaborn scatterplot helpfile](https://seaborn.pydata.org/generated/seaborn.scatterplot.html)\n",
    "10. [seaborn stripplot helpfile](https://seaborn.pydata.org/generated/seaborn.stripplot.html) "
   ]
  },
  {
   "cell_type": "code",
   "execution_count": null,
   "metadata": {},
   "outputs": [],
   "source": []
  },
  {
   "cell_type": "code",
   "execution_count": null,
   "metadata": {},
   "outputs": [],
   "source": []
  }
 ],
 "metadata": {
  "kernelspec": {
   "display_name": "Python 3",
   "language": "python",
   "name": "python3"
  },
  "language_info": {
   "codemirror_mode": {
    "name": "ipython",
    "version": 3
   },
   "file_extension": ".py",
   "mimetype": "text/x-python",
   "name": "python",
   "nbconvert_exporter": "python",
   "pygments_lexer": "ipython3",
   "version": "3.7.3"
  }
 },
 "nbformat": 4,
 "nbformat_minor": 2
}
