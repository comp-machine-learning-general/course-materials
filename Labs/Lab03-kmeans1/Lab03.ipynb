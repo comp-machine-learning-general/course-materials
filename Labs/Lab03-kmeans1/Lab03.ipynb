{
 "cells": [
  {
   "cell_type": "markdown",
   "metadata": {},
   "source": [
    "# Lab 3 \n",
    "\n",
    "Today we encounter our first big idea in machine learning: clustering. We'll approach clustering beginning with k-means. This lab has on two big goals:\n",
    "1. Articulate the steps of _k-means_ in prose (ie. words)\n",
    "2. Articulate the steps of _k-means_ in code"
   ]
  },
  {
   "cell_type": "markdown",
   "metadata": {},
   "source": [
    "## Unsupervised Learning\n",
    "\n",
    "There are two basic kinds of machine learning: supervised and unsupervised. When we say \"supervision\", we do not mean human supervised task; rather, we mean whether we are using outcomes to teach our algorithms (supervised machine learning) or not using outcomes (unsupervised machine learning). Most courses and texts begin with supervised learning, but in our course, we will begin with unsupervised learning. The most classic of the unsupervised learning algorithms is **k-means**. \n",
    "\n",
    "### Before we begin\n",
    "\n",
    "Find a computer scientist (or two) in our class to journey through this lab with. \n",
    "\n",
    "### Goal of $k$-means\n",
    "\n",
    "The ultimate goal of k-means is to determine which items group together. Chat with your fellow computer scientists about the two questions from the class prep for today:   \n",
    "1. How would you group people by their sleep habits? How many groups would you expect to have?\n",
    "2. How would you group Smith students? What would you use as variables in this grouping?\n",
    "\n",
    "### Today's data\n",
    "For this activity, I have created a **_fake_** dataset of Smith students. The variables in this dataset are:\n",
    "* GPA\n",
    "* Birth Month\n",
    "* Average number of minutes at the gym per week\n",
    "* Average Number of hours slept\n",
    "* Favorite Color\n",
    "* Average cups of coffee per day\n"
   ]
  },
  {
   "cell_type": "markdown",
   "metadata": {},
   "source": [
    "### Step 0: What do we have?\n",
    "\n",
    "The first step in any data project is to make pictures of the data that you have. Jeff Huang at Brown University once said that he makes images until they no longer surprise him. I think this is a great way to tell if you just \"know\" your data or if you _know_ your data. \n",
    "\n",
    "Start by generating at least 3 plots of your data. Share at least one of your images with those on your gather carpet. "
   ]
  },
  {
   "cell_type": "code",
   "execution_count": null,
   "metadata": {},
   "outputs": [],
   "source": [
    "# Import block\n",
    "# What packages do you want?\n",
    "\n",
    "\n",
    "\n",
    "from scipy.spatial import distance         # Keep this line, we'll need it later"
   ]
  },
  {
   "cell_type": "code",
   "execution_count": null,
   "metadata": {},
   "outputs": [],
   "source": [
    "# Importing data\n",
    "# How would you like to load the data? \n",
    "#     (Note why *you* made this choice)\n",
    "\n",
    "students = "
   ]
  },
  {
   "cell_type": "code",
   "execution_count": null,
   "metadata": {},
   "outputs": [],
   "source": [
    "# Make picture one\n",
    "\n"
   ]
  },
  {
   "cell_type": "code",
   "execution_count": null,
   "metadata": {},
   "outputs": [],
   "source": [
    "# Make picture two\n",
    "\n"
   ]
  },
  {
   "cell_type": "code",
   "execution_count": null,
   "metadata": {},
   "outputs": [],
   "source": [
    "# Make picture three\n",
    "\n"
   ]
  },
  {
   "cell_type": "markdown",
   "metadata": {},
   "source": [
    "Looking at your images and those shared with your fellow computer scientists, what do you notice about this dataset? Write a few observations"
   ]
  },
  {
   "cell_type": "markdown",
   "metadata": {},
   "source": [
    "_Markdown Block for you!_\n",
    "\n"
   ]
  },
  {
   "cell_type": "markdown",
   "metadata": {},
   "source": [
    "### From plots to groups\n",
    "\n",
    "The goal of k-means is to cluster groups of points. We can think of this as labeling points such that points in the same group all have the same label.   \n",
    "\n",
    "Looking at your images from above, how many groups do you see? What leads you to say that number? "
   ]
  },
  {
   "cell_type": "markdown",
   "metadata": {},
   "source": [
    "_Markdown Block for you!_"
   ]
  },
  {
   "cell_type": "markdown",
   "metadata": {},
   "source": [
    "Now that you have a guess for how many groups there are, how would you decide which points get which grouping labels? What ideas do you have for translating your ideas into code? Jot down a few ideas below and then have a quick discussion with your gather carpet. "
   ]
  },
  {
   "cell_type": "markdown",
   "metadata": {},
   "source": [
    "_Markdown Block for you!_"
   ]
  },
  {
   "cell_type": "markdown",
   "metadata": {},
   "source": [
    "#### A note\n",
    "\n",
    "As we move through this course, we will build towards a deep understanding of our algorithms by working iteratively:\n",
    "1. We'll often start by writing out in words (usually pseudo code) the broad steps. \n",
    "2. Then we'll break each step down into pieces. \n",
    "3. Finally we'll put all the pieces back together"
   ]
  },
  {
   "cell_type": "markdown",
   "metadata": {},
   "source": [
    "## k-Means\n",
    "### Our first machine learning algorithm\n",
    "\n",
    "The goal of k-means is to group data points into $k$ groups, which we call _clusters._ We can think of the finding of these clusters as the labeling of points that you just brainstormed with your gather carpet. \n",
    "\n",
    "At the beginning of k-means, we input our dataset and $k$, the number of clusters that we believe exist in the data. Then k-means works to split the data into $k$ clusters/groups. It does so **iteratively** by first finding centers of each group (holding the group labels constant) and then reassigning group labels (by holding the centers constant). The basic outline is as follows:\n",
    "\n",
    "0. Initialize $k$ \"centers.\" Each center represents the middle of a group and these first centers are likely 1) not in the center of any meaningful group and 2) not based on any groupings (because you haven't assigned any points to groups yet). We'll call these the centers of our 0<sup>th</sup> clusters          \n",
    "Repeat the following until convergence/stopping condition/maximum iterations: \n",
    "   1. Assign each datapoint to the closest center.    \n",
    "      The subset of the datapoints assigned to each center is the _cluster_ for that center.\n",
    "   2. For each cluster (ie. for all the points with group label 1, then for all the points with group label 2, etc), re-compute the associated center. \n",
    "   \n",
    "In the below code block, sketch out how you would like to do this in comments:"
   ]
  },
  {
   "cell_type": "code",
   "execution_count": null,
   "metadata": {},
   "outputs": [],
   "source": [
    "# Add your pseudo code here\n",
    "# You do not need to write code! Your outline can look very similar \n",
    "#     to the one above.\n",
    "#\n",
    "# Remember this is just the first time we're considering k-means, \n",
    "#     so this is just a broad roadmap We'll code each piece in \n",
    "#     detail later in this lab\n",
    "\n",
    "\n",
    "# Step 0:\n",
    "\n",
    "\n",
    "# Repeat the following (how would you do the repeating part?)\n",
    "\n",
    "\n",
    "#    Step A: \n",
    "\n",
    "\n",
    "#    Step B:\n",
    "\n",
    "\n",
    "# How does the repeating continue and/or stop?\n",
    "\n",
    "\n",
    "\n"
   ]
  },
  {
   "cell_type": "markdown",
   "metadata": {},
   "source": [
    "### Preparing the data\n",
    "\n",
    "For the next part of this lab, we are going to select just two columns of our data set. Let's create a new data frame called `justtwo` that has only the `coffee` and `sleep` variables. Note that you want to **return** a dataframe in this action."
   ]
  },
  {
   "cell_type": "code",
   "execution_count": null,
   "metadata": {},
   "outputs": [],
   "source": [
    "# Creating a new dataframe `justtwo`\n",
    "\n",
    "justtwo = \n",
    "\n",
    "# Be sure to check what you created! Perhaps by looking at the top of the data\n",
    "\n",
    "\n"
   ]
  },
  {
   "cell_type": "markdown",
   "metadata": {},
   "source": [
    "Before moving on, create a plot of coffee vs. sleep and decide how many clusters you think exists in this data. "
   ]
  },
  {
   "cell_type": "code",
   "execution_count": null,
   "metadata": {},
   "outputs": [],
   "source": [
    "# Make a plot here\n",
    "\n",
    "\n"
   ]
  },
  {
   "cell_type": "markdown",
   "metadata": {},
   "source": [
    "Given your plot, how many clusters do you think there are in this data? \n",
    "\n",
    "**Wait here to chat with your fellow computer scientists**"
   ]
  },
  {
   "cell_type": "markdown",
   "metadata": {},
   "source": [
    "## Step 0 - Initialize clusters' centers\n",
    "\n",
    "There are a few ways to initialize this algorithm. We can:\n",
    "1. Start by placing $k$ centers anywhere on the area covered by our data. This choice means that these initial centers are not points within our data. \n",
    "2. Choose $k$ of our datapoints to serve as initial cluster centers. \n",
    "\n",
    "It does not really matter which you do, but many algorithms begin with datapoints within the dataset. In the below block we use `.sample()` to help us do this. "
   ]
  },
  {
   "cell_type": "code",
   "execution_count": null,
   "metadata": {},
   "outputs": [],
   "source": [
    "# Choose k data points to act as the initial clusters for k-means\n",
    "\n",
    "centers= justtwo.sample(2, random_state = 1)\n",
    "centers"
   ]
  },
  {
   "cell_type": "markdown",
   "metadata": {},
   "source": [
    "Find the output on your above plot. Are you happy with those as centers of the clusters? \n",
    "\n",
    "_Bonus round:_ Play with the `random_state` value. What happens? What do you think `random_state` does? \n",
    "\n",
    "**Wait here to chat with your fellow computer scientists**"
   ]
  },
  {
   "cell_type": "markdown",
   "metadata": {},
   "source": [
    "## Repeating steps\n",
    "\n",
    "### Step 1 (repeats) - Assign each data point to the closest center\n",
    "_Note_ we are going to do this without optimization. The goal is to understand the _general idea_ of what is happening. \n",
    "\n",
    "In the below code block, sketch out how you would like to do this in comments:"
   ]
  },
  {
   "cell_type": "code",
   "execution_count": null,
   "metadata": {},
   "outputs": [],
   "source": [
    "# Pseudo code for assigning each data point to the closest center\n",
    "# Reminder: You do not need to write code! Keep it short and in words.\n",
    "\n",
    "\n",
    "\n"
   ]
  },
  {
   "cell_type": "markdown",
   "metadata": {},
   "source": [
    "#### In pieces\n",
    "\n",
    "While it is easy to say \"assign each data point to the closest center\", the act of doing this in code takes a few steps. For each datapoint, we need to:   \n",
    "   a. Compute the distance from the datapoint to each of the centers   \n",
    "   b. Figure out which one is the smallest distance   \n",
    "   c. Assign the center with the smallest distance to the data point   \n",
    "   \n",
    "   \n",
    "**Check your psuedo code from above with this outline** What similarities do you see? Any differences? "
   ]
  },
  {
   "cell_type": "markdown",
   "metadata": {},
   "source": [
    "#### Step 1A - Compute the distance \n",
    "\n",
    "The \"usual\" distance is called Euclidean distance. This is the one that we are used to seeing. If $X = (x_1,x_2)$ and $Y = (y_1,y_2)$:\n",
    "\n",
    "$dist(X,Y) = \\sqrt{(x_1 - y_1)^2 + (x_2 - y_2)^2}$\n",
    "\n",
    "(There are other distances, but let's use this one for now.)\n",
    "\n",
    "How do we write such a distance? This is where we turn to the package `scipy`. To use `scipy`, we need to turn our data and our centers into a numpy array using `.to_array()`. I've completed the first transition for `justtwo_np`. How would you do this for `centers_np`? "
   ]
  },
  {
   "cell_type": "code",
   "execution_count": null,
   "metadata": {},
   "outputs": [],
   "source": [
    "justtwo_np = justtwo.to_numpy()\n",
    "centers_np = ????"
   ]
  },
  {
   "cell_type": "markdown",
   "metadata": {},
   "source": [
    "Now to use `cdist` from the distance sub-module withing `scipy`. There are three inputs: first set of data, second set of data, and the kind of distance that we want to compute. "
   ]
  },
  {
   "cell_type": "code",
   "execution_count": null,
   "metadata": {},
   "outputs": [],
   "source": [
    "dists = distance.cdist(justtwo_np, centers_np, 'euclidean')"
   ]
  },
  {
   "cell_type": "markdown",
   "metadata": {},
   "source": [
    "What is the shape of `dists`? Does this shape make sense? Why or why not?"
   ]
  },
  {
   "cell_type": "code",
   "execution_count": null,
   "metadata": {},
   "outputs": [],
   "source": []
  },
  {
   "cell_type": "markdown",
   "metadata": {},
   "source": [
    "**Wait here to chat with your fellow computer scientists**"
   ]
  },
  {
   "cell_type": "markdown",
   "metadata": {},
   "source": [
    "####    \n",
    "####    \n",
    "####    \n",
    "####    \n",
    "####    \n",
    "####    \n",
    "_This space is intentionally left blank_\n",
    "####    \n",
    "####    \n",
    "####    \n",
    "####    \n",
    "####    \n",
    "####  \n",
    "\n",
    "\n",
    "\n",
    "**Distance matrix**\n",
    "\n",
    "The matrix the we constructed here is as follows:\n",
    "\n",
    "<table>\n",
    "<thead>\n",
    "<tr>\n",
    "<th></th>\n",
    "<th>Center 1</th>\n",
    "<th>Center 2</th>\n",
    "</tr>\n",
    "</thead>\n",
    "<tbody>\n",
    "<tr>\n",
    "<td><strong>Student 1</strong></td>\n",
    "<td>dist(Student 1, Center 1)</td>\n",
    "<td>dist(Student 1, Center 2)</td>\n",
    "</tr>\n",
    "<tr>\n",
    "<td><strong>Student 2</strong></td>\n",
    "<td>dist(Student 2, Center 1)</td>\n",
    "<td>dist(Student 2, Center 2)</td>\n",
    "</tr>\n",
    "<tr>\n",
    "<td><strong>Student 3</strong></td>\n",
    "<td>dist(Student 3, Center 1)</td>\n",
    "<td>dist(Student 3, Center 2)</td>\n",
    "</tr>\n",
    "<tr>\n",
    "<td><strong>Student 4</strong></td>\n",
    "<td>dist(Student 4, Center 1)</td>\n",
    "<td>dist(Student 4, Center 2)</td>\n",
    "</tr>\n",
    "<tr>\n",
    "<td>...</td>\n",
    "    <td>...</td>\n",
    "    <td>...</td>\n",
    "</tr>\n",
    "</tbody>\n",
    "</table>\n",
    "\n",
    "Again, what is the shape of `dists`? Does this shape make sense? Why or why not?"
   ]
  },
  {
   "cell_type": "markdown",
   "metadata": {},
   "source": [
    "_Markdown cell for your notes_"
   ]
  },
  {
   "cell_type": "markdown",
   "metadata": {},
   "source": [
    "#### Step 1B - Figure out the smallest distance\n",
    "\n",
    "In this step, we use the above distance matrix to determine which center each student is nearer. Notice that we do not care 1) how much closer, 2) what the distance is, or 3) how each data point relates to each other. All we care about is which center is closest. \n",
    "\n",
    "This situation lends itself to `argmin` which means \"argument minimum\" or \"tell me where I achieve the minimum (but not what the value of the minimum is. \n",
    "\n",
    "If what we want is **one** location of a minimum per data point, what is the output size of what we want? \n",
    "\n",
    "Try the below code block. What happens? How do you know? Is this what we want. "
   ]
  },
  {
   "cell_type": "code",
   "execution_count": null,
   "metadata": {},
   "outputs": [],
   "source": [
    "clusters = np.argmin(dists)\n",
    "clusters"
   ]
  },
  {
   "cell_type": "markdown",
   "metadata": {},
   "source": [
    "Weird... Why did this happen?\n",
    "\n",
    "In `numpy`, the method `argmin` can have two inputs: 1) the numpy array we want more information about and 2) the _axis_ that we are interested in. When `numpy` looks at an array, it can look across axis 0 or 1 (either look over the rows or over the columns, respectively). If we don't tell `numpy` which to use, it assumes we want to treat the whole array as one total object instead of as a collection of objects (or a collection of data rows). \n",
    "\n",
    "Try both in the below code blocks. What happens? Which _axis_ lens should we use and why? (Hint: check the shape of the data.)"
   ]
  },
  {
   "cell_type": "code",
   "execution_count": null,
   "metadata": {},
   "outputs": [],
   "source": [
    "clusters = np.argmin(dists, axis=0)\n"
   ]
  },
  {
   "cell_type": "code",
   "execution_count": null,
   "metadata": {},
   "outputs": [],
   "source": [
    "clusters = np.argmin(dists, axis=1)\n"
   ]
  },
  {
   "cell_type": "markdown",
   "metadata": {},
   "source": [
    "_Markdown cell for your notes about_ `axis` _flag_"
   ]
  },
  {
   "cell_type": "markdown",
   "metadata": {},
   "source": [
    "**Wait here to chat with your fellow computer scientists** What's something new or cool that you've learned today? "
   ]
  },
  {
   "cell_type": "markdown",
   "metadata": {},
   "source": [
    "#### Step 1C - Recompute the centers\n",
    "\n",
    "At this point in the loop, we have a) determined the distances between each data point and each center and b) figured out how to assign each data point to the closest center. The last step within the k-means loop is to update the centers for each cluster. \n",
    "\n",
    "The centers should exist as the average of the clusters. **Note** this means that the center of the cluster _may not_ be a data point in the dataset. \n",
    "\n",
    "To compute the new centers, we need to:\n",
    "1. Select one cluster to examine\n",
    "2. Take the subset of the data that is in that cluster\n",
    "3. Compute the average of that subset\n",
    "\n",
    "In the below code block, first write pseudo-code for these steps. Then use 1) a boolean statement to select each cluster, and 2) `np.mean()` to get the average. Finally 3) overwrite the row in `centers_np` associated to that cluster. "
   ]
  },
  {
   "cell_type": "code",
   "execution_count": null,
   "metadata": {},
   "outputs": [],
   "source": [
    "# Recompute your clusters' centers\n",
    "# 1. Pseudo code first\n",
    "# 2. Then fill in code\n",
    "\n",
    "\n",
    "# Step 1. Select one cluster to examine\n",
    "\n",
    "\n",
    "# Step 2. Take the subset of the data that is in that cluster\n",
    "\n",
    "\n",
    "# Step 3. Compute the average of that subset\n",
    "\n",
    "\n"
   ]
  },
  {
   "cell_type": "code",
   "execution_count": null,
   "metadata": {},
   "outputs": [],
   "source": [
    "# Print your output here\n",
    "\n"
   ]
  },
  {
   "cell_type": "markdown",
   "metadata": {},
   "source": [
    "**Wait here to chat with your fellow computer scientists**\n",
    "\n",
    "Check in with each other on your code so far and share your ideas. "
   ]
  },
  {
   "cell_type": "markdown",
   "metadata": {},
   "source": [
    "### Repeat all of Step 1 \n",
    "\n",
    "We have to stop at some point. This stop can be triggered by any number of things, which we call the _stopping condition(s)_. \n",
    "\n",
    "Come up with at least 2 ideas of what you think would be good stopping conditions. \n",
    "\n",
    "####    \n",
    "####    \n",
    "####    \n",
    "####    \n",
    "####    \n",
    "####    \n",
    "_This space is intentionally left blank_\n",
    "####    \n",
    "####    \n",
    "####    \n",
    "####    \n",
    "####    \n",
    "####  "
   ]
  },
  {
   "cell_type": "markdown",
   "metadata": {},
   "source": [
    "## Stopping conditions:\n",
    "\n",
    "Stopping conditions for k-means can take a few forms:\n",
    "1. Maximum number of repetitions of the looping steps, OR\n",
    "2. When additional repetitions of the loop will not change the clusters\n",
    "\n",
    "There are other kinds of stopping conditions, but these are the two that we will examine. \n",
    "\n",
    "For each of the stopping conditions above, how would you implement this in code? Write pseudo-code for k-means for each one in the below two code blocks:"
   ]
  },
  {
   "cell_type": "code",
   "execution_count": null,
   "metadata": {},
   "outputs": [],
   "source": [
    "# Pseudo Code for Stopping Condition Max number of repeats\n",
    "# Reminder: You do not need to write code! Keep it short and in words.\n",
    "# (Hint: You can copy and adapt pseudocode from above.)\n",
    "\n"
   ]
  },
  {
   "cell_type": "code",
   "execution_count": null,
   "metadata": {},
   "outputs": [],
   "source": [
    "# Pseudo Code for Stopping Condition clusters unchanged\n",
    "\n"
   ]
  },
  {
   "cell_type": "markdown",
   "metadata": {},
   "source": [
    "#### Check in with your fellow computer scientists\n",
    "\n",
    "Show your ideas to another person in the course. What questions do they have for you? What questions do you have for them? "
   ]
  },
  {
   "cell_type": "markdown",
   "metadata": {},
   "source": [
    "## Putting it all together\n",
    "\n",
    "In the below code block, write out a full implementation using one of the stopping conditions. Run it on the `justtwo_np` array and make a plot of your results. \n",
    "\n",
    "Do you agree with your output? "
   ]
  },
  {
   "cell_type": "code",
   "execution_count": null,
   "metadata": {},
   "outputs": [],
   "source": [
    "# Your k-means here\n",
    "\n"
   ]
  },
  {
   "cell_type": "code",
   "execution_count": null,
   "metadata": {},
   "outputs": [],
   "source": [
    "# Your visualization here\n",
    "\n"
   ]
  },
  {
   "cell_type": "markdown",
   "metadata": {},
   "source": [
    "### Final Thoughts\n",
    "\n",
    "To finish up this lab, read about k-means in `sklearn` and create a post to **#lab03_submission** channel on slack sharing one surprising thing about k-means that you learned by first implementing it in this lab.  \n",
    "\n",
    "If your have questions from this lab, post them to #lab_questions with the same preamble (i.e. starting with **Lab3**). If you have the same question, please use one of the emoji's to upvote the question. If you would like to answer someone's question, please use the thread function. This will tie your answer to their question. "
   ]
  },
  {
   "cell_type": "markdown",
   "metadata": {},
   "source": [
    "#### Resources Consulted\n",
    "\n",
    "0. _Python for Data Analysis_\n",
    "1. _Data Science from Scratch_ by Joel Grus\n",
    "2. [pandas sample helpfile](https://pandas.pydata.org/pandas-docs/stable/reference/api/pandas.DataFrame.sample.html)\n",
    "3. [cdist helpfile](https://docs.scipy.org/doc/scipy-0.17.0/reference/generated/scipy.spatial.distance.cdist.html)\n",
    "4. [to_numpy helpfile](https://pandas.pydata.org/pandas-docs/stable/reference/api/pandas.DataFrame.to_numpy.html)\n",
    "5. [Tables in github markdown](https://github.github.com/gfm/#tables-extension-)\n",
    "6. [Intro to k-means](https://www.datascience.com/blog/k-means-clustering)\n",
    "7. [k-Means Clustering](https://www.saedsayad.com/clustering_kmeans.htm)"
   ]
  }
 ],
 "metadata": {
  "kernelspec": {
   "display_name": "Python 3",
   "language": "python",
   "name": "python3"
  },
  "language_info": {
   "codemirror_mode": {
    "name": "ipython",
    "version": 3
   },
   "file_extension": ".py",
   "mimetype": "text/x-python",
   "name": "python",
   "nbconvert_exporter": "python",
   "pygments_lexer": "ipython3",
   "version": "3.8.8"
  }
 },
 "nbformat": 4,
 "nbformat_minor": 2
}
