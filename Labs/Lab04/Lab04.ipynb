{
 "cells": [
  {
   "cell_type": "markdown",
   "metadata": {},
   "source": [
    "# Lab 4\n",
    "\n",
    "Last time, we worked towards a fully functional k-means. Today, we are going to look at a few issues concerning k-means:\n",
    "0. Discuss what _Stopping Conditions_ are and how to use them\n",
    "1. How to use the `sklearn` implementation for k-means\n",
    "2. How do we decide if we have \"good\" clusters?\n",
    "\n",
    "Today we will continue working with our Smith Students data. Please create a copy and place it in this Lab04 folder. Then create the `justtwo` dataframe with just _coffee_ and _sleep_ variables. "
   ]
  },
  {
   "cell_type": "code",
   "execution_count": 1,
   "metadata": {},
   "outputs": [],
   "source": [
    "# Package Import block\n",
    "%matplotlib inline\n",
    "from sklearn.cluster import KMeans\n",
    "import numpy as np\n",
    "import pandas as pd\n",
    "import matplotlib.pyplot as plt\n",
    "import seaborn as sns; sns.set()"
   ]
  },
  {
   "cell_type": "code",
   "execution_count": 2,
   "metadata": {},
   "outputs": [],
   "source": [
    "# Import your data\n",
    "students = pd.read_csv(\"../Lab03/students_info.csv\", sep=\",\")\n",
    "\n",
    "\n",
    "# Create your subset\n",
    "justtwo = students[['coffee','sleep']]\n",
    "justtwo_np = justtwo.to_numpy()"
   ]
  },
  {
   "cell_type": "markdown",
   "metadata": {},
   "source": [
    "## Stopping Conditions\n",
    "\n",
    "Let's start with a few questions about stopping conditions:\n",
    "   1. What are stopping conditions? \n",
    "   2. Why do we care about them?\n",
    "   3. Why are stopping conditions necessary for k-means?\n",
    "   \n",
    "* Write down at least 3 thoughts/ideas/questions about stopping conditions\n",
    "* Pick at least 1 to share with the class\n",
    "\n",
    "**Wait here for the group**"
   ]
  },
  {
   "cell_type": "markdown",
   "metadata": {},
   "source": [
    "For HW2, you will be asked to share your full implementation of k-means, with an explanation of your stopping conditions. "
   ]
  },
  {
   "cell_type": "markdown",
   "metadata": {},
   "source": [
    "## `sklearn`\n",
    "\n",
    "There are several important python packages for doing machine learning, but `sklearn` (or _scikit-learn_) is one of the most powerful. Unlike `numpy`, `pandas`, and `scipy` which serve to be used generally for numerical computations, data wrangling, and scientific computing, respectively, the `sklearn` package is specifically for applying machine learning algorithms to data. The implementations in `sklearn` seek to be optimized and this direct usage is considered to be \"off the shelf\". \n",
    "\n",
    "In this course, we will first program our own version of each algorithm and then switch to using the optimized versions. In a sense `sklearn` becomes our \"check\" after we have a deeper understanding of each method. \n",
    "\n",
    "_Note_ The phrase \"off the shelf\" refers to the analogy of going to a store and buying something that is designed to just work with little tinkering from the customer. When someone says they used \"off the shelf\" _method_ they mean that they did not modify the _method_ implementation. "
   ]
  },
  {
   "cell_type": "markdown",
   "metadata": {},
   "source": [
    "### k-means in `sklearn`\n",
    "\n",
    "To use k-means in `sklearn`, there are two steps:\n",
    "1. Setting up how the k-means will function, including:\n",
    "   * How many clusters (i.e. the $k$).\n",
    "   * How you would like the clusters to be selected\n",
    "   * The starting random state\n",
    "   * The maximum number of iterations through loop of assigning clusters and finding the centers\n",
    "2. Applying the k-means you set up to your data\n",
    "\n",
    "This might seem odd, and perhaps you are wondering why _scikit-learn_ can't do this in one step. I would argue that in fact, this two-step procedure mirrors how we as humans approach coding k-means cold. In fact, note that during the last class, 1) we developed our k-means algorithm and then 2) we applied that code to our dataset. \n",
    "\n",
    "In the below code block, we have one possible setting of `KMeans()` from `sklearn`. What _type_ is the output and what information is contained within `km_alg`? "
   ]
  },
  {
   "cell_type": "code",
   "execution_count": 17,
   "metadata": {},
   "outputs": [
    {
     "data": {
      "text/plain": [
       "sklearn.cluster.k_means_.KMeans"
      ]
     },
     "execution_count": 17,
     "metadata": {},
     "output_type": "execute_result"
    }
   ],
   "source": [
    "# Step one: Set up the k-means\n",
    "km_alg = KMeans(n_clusters=2, init=\"random\",random_state = 1, max_iter = 200)\n",
    "type(km_alg)"
   ]
  },
  {
   "cell_type": "code",
   "execution_count": 23,
   "metadata": {},
   "outputs": [],
   "source": [
    "# Code block for further discovery\n",
    "\n"
   ]
  },
  {
   "cell_type": "markdown",
   "metadata": {},
   "source": [
    "Now that we have our k-means set up, we _fit_ it to our data. There are a few ways to [fit data using k-means](https://scikit-learn.org/stable/modules/generated/sklearn.cluster.KMeans.html#sklearn.cluster.KMeans.fit). In this course we will use `.fit()` and `.predict()`.\n",
    "\n",
    "#### Using `.fit()`\n",
    "\n",
    "This first fitting applies k-means to the data. What _type_ is the output and what information is contained within `fit1`?"
   ]
  },
  {
   "cell_type": "code",
   "execution_count": 24,
   "metadata": {},
   "outputs": [],
   "source": [
    "# Step 2: Apply the set k-means to the data using .fit()\n",
    "fit1 = km_alg.fit(justtwo_np)"
   ]
  },
  {
   "cell_type": "code",
   "execution_count": null,
   "metadata": {},
   "outputs": [],
   "source": [
    "# Code block for further discovery\n",
    "\n"
   ]
  },
  {
   "cell_type": "markdown",
   "metadata": {},
   "source": [
    "It's not immediately obvious how to access the 1) cluster assignments, nor 2) the centers for each cluster. The result of `.fit()` wraps this information inside a class style object. We can use `.labels_` and `.cluster_centers_` to access this information: "
   ]
  },
  {
   "cell_type": "code",
   "execution_count": 26,
   "metadata": {},
   "outputs": [
    {
     "name": "stdout",
     "output_type": "stream",
     "text": [
      "Labels\n",
      " [0 1 1 0 0 0 0 0 0 1 0 1 1 1 1 0 1 1 0 1 0 1 1 0 0 0 0 0 1 1 0 0 1 1 1 0 1\n",
      " 0 1 1 0 1 0 1 1 0 1 0 0 1 0 1 0 0 1 0 1 0 0 1 1 1 1 0 1 0 1 1 1 1 0 0 0 0\n",
      " 1 1 1 0 1 1 0 1 1 0 1 1 1 0 1 1 0 1 0 1 1 1 0 1 0 1 1 0 1 1 1 1 0 1 1 1 0\n",
      " 0 1 1 0 0 0 1 0 1 1 0 1 1 1 0 1 1 1 0 0 0 1 0 0 1 0 1 0 0 1 0 1 1 0 0 0 0\n",
      " 0 1 1 0 1 1 0 0 1 1 1 1 0 1 1 0 0 1 1 1 0 0 1 1 0 1 1 1 1 1 1 1 1 0 1 1 1\n",
      " 0 1 0 1 0 1 1 1 1 0 1 1 0 1 0 1 0 1 0 1 0 0 0 1 1 1 1 0 1 1 1 1 0 0 1 1 0\n",
      " 1 1 1 0 0 1 1 1 0 1 1 0 1 0 0 0 0 1 1 0 0 0 0 1 1 0 1 1 1 1 1 1 0 0 1 0 1\n",
      " 1 0 1 0 0 0 0 1 1 1 1 1 1 1 1 1 1 0 0 1 1 1 1 1 1 0 1 0 0 1 1 0 0 0 1 1 0\n",
      " 0 1 1 1]\n",
      "\n",
      " Cluster Centers \n",
      " [[1.1208     5.164     ]\n",
      " [1.21657143 7.20417143]]\n"
     ]
    }
   ],
   "source": [
    "print(\"Labels\\n\", out.labels_)\n",
    "\n",
    "print(\"\\n Cluster Centers \\n\",out.cluster_centers_)"
   ]
  },
  {
   "cell_type": "markdown",
   "metadata": {},
   "source": [
    "#### Using `.predict()`\n",
    "\n",
    "If we discover more data that we want to compute the cluster label for **after** applying k-means, we can use `.predict()` on that point. For example, say your friend drinks an average of 1 cup of coffee and sleeps for 8 hours per night, which cluster do they belong to?"
   ]
  },
  {
   "cell_type": "code",
   "execution_count": 29,
   "metadata": {},
   "outputs": [
    {
     "name": "stdout",
     "output_type": "stream",
     "text": [
      "[0]\n"
     ]
    }
   ],
   "source": [
    "new_friend_label = km_alg.predict(np.array([[1,2]]))\n",
    "print(new_friend_label)"
   ]
  },
  {
   "cell_type": "markdown",
   "metadata": {},
   "source": [
    "### Plotting our results\n",
    "\n",
    "Each time we apply a machine learning method, we should evaluate the results. One of the fastest and more visceral ways to do this is by plotting our results. Adapting the visualizations from [this example](https://jakevdp.github.io/PythonDataScienceHandbook/05.11-k-means.html), we proceed as follows:"
   ]
  },
  {
   "cell_type": "code",
   "execution_count": 38,
   "metadata": {},
   "outputs": [
    {
     "data": {
      "text/plain": [
       "<matplotlib.collections.PathCollection at 0x1a18ba7b38>"
      ]
     },
     "execution_count": 38,
     "metadata": {},
     "output_type": "execute_result"
    },
    {
     "data": {
      "image/png": "[encoded data removed]",
      "text/plain": [
       "<Figure size 432x288 with 1 Axes>"
      ]
     },
     "metadata": {
      "needs_background": "light"
     },
     "output_type": "display_data"
    }
   ],
   "source": [
    "labels = out.labels_\n",
    "centers = out.cluster_centers_\n",
    "\n",
    "# Plot and color the points according to their label\n",
    "plt.scatter(justtwo_np[:,0], justtwo_np[:,1], c=labels, s=50, cmap=\"spring\")\n",
    "# Add the cluster centers on top\n",
    "plt.scatter(centers[:, 0], centers[:, 1], c='black', marker=\"x\", s=200, alpha=0.75)\n"
   ]
  },
  {
   "cell_type": "code",
   "execution_count": null,
   "metadata": {},
   "outputs": [],
   "source": []
  },
  {
   "cell_type": "markdown",
   "metadata": {},
   "source": [
    "#### Resources Consulted\n",
    "\n",
    "0. _Python Machine Learning_\n",
    "1. [k-means helpfile in sklearn](https://scikit-learn.org/stable/modules/generated/sklearn.cluster.KMeans.html)\n",
    "2. [In Depth: k-Means Clustering](https://jakevdp.github.io/PythonDataScienceHandbook/05.11-k-means.html)\n",
    "3. [Colormaps in matplotlib (ie. `cmap`)](https://matplotlib.org/3.1.0/tutorials/colors/colormaps.html)\n",
    "4. [Scatter Helpfile](https://matplotlib.org/3.1.1/api/_as_gen/matplotlib.pyplot.scatter.html)"
   ]
  }
 ],
 "metadata": {
  "kernelspec": {
   "display_name": "Python 3",
   "language": "python",
   "name": "python3"
  },
  "language_info": {
   "codemirror_mode": {
    "name": "ipython",
    "version": 3
   },
   "file_extension": ".py",
   "mimetype": "text/x-python",
   "name": "python",
   "nbconvert_exporter": "python",
   "pygments_lexer": "ipython3",
   "version": "3.7.3"
  }
 },
 "nbformat": 4,
 "nbformat_minor": 2
}
