{
 "cells": [
  {
   "cell_type": "markdown",
   "metadata": {},
   "source": [
    "# Lab 2\n",
    "\n",
    "After Lab 1, you should be able to import data, be able to determine a few quick facts about that data, and articulate the purpose of unit testing. Today we are going to explore the `.gitigore` file, work a bit more with `pandas` for selecting parts of data and start working with `matplotlib` to make images.  \n",
    "\n",
    "This lab's goals can be summarized with this image:"
   ]
  },
  {
   "cell_type": "markdown",
   "metadata": {},
   "source": []
  },
  {
   "cell_type": "markdown",
   "metadata": {},
   "source": [
    "### Before starting...\n",
    "\n",
    "A few questions before we begin:\n",
    "* Do you need to `pull` anything? \n",
    "* Do you need to copy anything into a folder? \n",
    "* Are you in the right `env`ironment? \n",
    "\n",
    "<sub>These reminders will smaller and smaller as we get used to the flow of this course.</sub>"
   ]
  },
  {
   "cell_type": "markdown",
   "metadata": {},
   "source": [
    "## Creating `.gitignore`\n",
    "\n",
    "The `.gitignore` file is a [hidden](https://en.wikipedia.org/wiki/Hidden_file_and_hidden_directory) file that tells `git` which files to ignore. In general, you should be creating one for each of your repositories. A few things that you will want to ignore each time include your `.ipynb` checkpoints.    \n",
    "\n",
    "Refering to the [help file](https://help.github.com/en/articles/ignoring-files), the process for creating `.gitignore` file is as follows: \n",
    "1. From your command line, navigate to the directory for your repository on your local machine\n",
    "2. Next we use the `touch` command (which is similar to `cd` and `m`) to create the file.   \n",
    "   Type `touch .gitignore`. This creates an empty file with that name\n",
    "3. Now we need to add the files (or rather the file types) that we do not want to commit to git. To do this, we will use `vim`. Refering to this [Simple Vim Workflow Example](https://www.keycdn.com/blog/vim-commands#simple-vim-workflow-example), we proceed as follows:\n",
    "   * Type `vim .gitignore`   \n",
    "     Now you will see an empty file. If you try to type right now, nothing will happen until you hit the **i** key. This is confusing at first. But **i** is a special key in _vim_ as we will discuss next. \n",
    "   * Enter **insert mode** by typing `i`. Now you can type whatever you want. Since, we want to ignore our _.ipynb_ checkpoints, add `.ipynb_checkpoints` to your _.gitignore_ file. \n",
    "   * Exiting a file in _vim_ is not as simple as closing the window. First, we need to get out of _edit/insert_ mode and back to command mode. To do this hit `Esc`. \n",
    "   * Now you are in _command_ mode. To **save and exit** your file, type `:wq`.  \n",
    "   \n",
    "_Unsolicited Advice_ - You will be doing this procedure a lot. I recommend either creating a section in your machine learning notebook for **Repeated Procedures** and adding notes there about how to do this. "
   ]
  },
  {
   "cell_type": "markdown",
   "metadata": {},
   "source": [
    "## Selecting subsets with `pandas`"
   ]
  },
  {
   "cell_type": "markdown",
   "metadata": {},
   "source": [
    "## Getting started with `matplotlib`"
   ]
  },
  {
   "cell_type": "markdown",
   "metadata": {},
   "source": [
    "### First plot"
   ]
  },
  {
   "cell_type": "markdown",
   "metadata": {},
   "source": [
    "### colors"
   ]
  },
  {
   "cell_type": "markdown",
   "metadata": {},
   "source": [
    "#### Resources consulted to build this lab:\n",
    "\n",
    "1. Wikipedia about [hidden files](https://en.wikipedia.org/wiki/Hidden_file_and_hidden_directory)\n",
    "2. [Ignoring Files and Directories in Git with .gitignore](https://www.jamescoyle.net/how-to/1094-ignoring-files-in-git-with-gitignore)\n",
    "3. Stackoverflow question about ipynb checkpoints: [How to git ignore ipython notebook checkpoints anywhere in repository](https://stackoverflow.com/questions/35916658/how-to-git-ignore-ipython-notebook-checkpoints-anywhere-in-repository)"
   ]
  }
 ],
 "metadata": {
  "kernelspec": {
   "display_name": "Python 3",
   "language": "python",
   "name": "python3"
  },
  "language_info": {
   "codemirror_mode": {
    "name": "ipython",
    "version": 3
   },
   "file_extension": ".py",
   "mimetype": "text/x-python",
   "name": "python",
   "nbconvert_exporter": "python",
   "pygments_lexer": "ipython3",
   "version": "3.7.3"
  }
 },
 "nbformat": 4,
 "nbformat_minor": 2
}
