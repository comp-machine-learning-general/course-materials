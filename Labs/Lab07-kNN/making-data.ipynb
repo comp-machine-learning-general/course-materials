{
 "cells": [
  {
   "cell_type": "code",
   "execution_count": null,
   "metadata": {},
   "outputs": [],
   "source": [
    "%matplotlib inline\n",
    "from sklearn.datasets.samples_generator import make_blobs\n",
    "from scipy.spatial import distance\n",
    "import numpy as np\n",
    "import pandas as pd\n",
    "import matplotlib.pyplot as plt\n",
    "import seaborn as sns; sns.set()\n",
    "import random\n",
    "import math"
   ]
  },
  {
   "cell_type": "code",
   "execution_count": null,
   "metadata": {},
   "outputs": [],
   "source": [
    "# Create somewhat clustered random data\n",
    "X, y_true = make_blobs(n_samples = 500, centers = 4, \n",
    "              cluster_std = 0.7, random_state = 10)\n",
    "\n",
    "# Create somewhat clustered random data\n",
    "X2, y2_true = make_blobs(n_samples = 300, centers = 2, \n",
    "              cluster_std = 0.6, random_state = 10)"
   ]
  },
  {
   "cell_type": "code",
   "execution_count": null,
   "metadata": {},
   "outputs": [],
   "source": [
    "# Attempting various plots of the data output\n",
    "plt.scatter(X[:,0],X[:,1], s=50)\n",
    "plt.scatter(-1*X2[:,0],X2[:,1]-2, s=50)"
   ]
  },
  {
   "cell_type": "code",
   "execution_count": null,
   "metadata": {},
   "outputs": [],
   "source": [
    "first_x = np.hstack([X[:,0],-1*X2[:,0]])\n",
    "first_y = np.hstack([X[:,1],X2[:,1]-2])\n",
    "first = np.vstack([first_x,first_y]).T"
   ]
  },
  {
   "cell_type": "code",
   "execution_count": null,
   "metadata": {},
   "outputs": [],
   "source": [
    "first.shape"
   ]
  },
  {
   "cell_type": "code",
   "execution_count": null,
   "metadata": {},
   "outputs": [],
   "source": [
    "plt.scatter(first[:,0],first[:,1])"
   ]
  },
  {
   "cell_type": "code",
   "execution_count": null,
   "metadata": {},
   "outputs": [],
   "source": [
    "trans_mat = np.array([[0,-1],[1,0]])"
   ]
  },
  {
   "cell_type": "code",
   "execution_count": null,
   "metadata": {},
   "outputs": [],
   "source": [
    "trans_mat\n"
   ]
  },
  {
   "cell_type": "code",
   "execution_count": null,
   "metadata": {},
   "outputs": [],
   "source": [
    "second = np.dot(first,trans_mat)"
   ]
  },
  {
   "cell_type": "code",
   "execution_count": null,
   "metadata": {},
   "outputs": [],
   "source": [
    "plt.scatter(second[:,0],second[:,1])"
   ]
  },
  {
   "cell_type": "code",
   "execution_count": null,
   "metadata": {},
   "outputs": [],
   "source": [
    "rad1 = (5/4)*math.pi*np.random.rand(75) + (math.pi/4)\n",
    "rad2 = (-3/2)*math.pi*np.random.rand(150) + (math.pi/2)"
   ]
  },
  {
   "cell_type": "code",
   "execution_count": null,
   "metadata": {},
   "outputs": [],
   "source": [
    "top = np.array([math.sqrt(3/4)*np.cos(rad1),(1/2)*np.sin(rad1)+1]).T\n",
    "lower = np.array([math.sqrt(2)*np.cos(rad2),np.sin(rad2)-0.5]).T\n",
    "dataS = np.vstack([top,lower]) + (1/2)*np.array([np.random.rand(225)-0.5,np.random.rand(225)-0.5]).T"
   ]
  },
  {
   "cell_type": "code",
   "execution_count": null,
   "metadata": {},
   "outputs": [],
   "source": [
    "plt.scatter(dataS[:,0],dataS[:,1])\n"
   ]
  },
  {
   "cell_type": "code",
   "execution_count": null,
   "metadata": {},
   "outputs": [],
   "source": [
    "blob1 = np.array([6*np.random.rand(900)-3, 6*np.random.rand(900)-3]).T"
   ]
  },
  {
   "cell_type": "code",
   "execution_count": null,
   "metadata": {},
   "outputs": [],
   "source": [
    "plt.scatter(dataS[:,0],dataS[:,1])\n",
    "plt.scatter(blob1[:,0],blob1[:,1])"
   ]
  },
  {
   "cell_type": "code",
   "execution_count": null,
   "metadata": {},
   "outputs": [],
   "source": [
    "dist_mat = distance.cdist(dataS,blob1, \"euclidean\")"
   ]
  },
  {
   "cell_type": "code",
   "execution_count": null,
   "metadata": {},
   "outputs": [],
   "source": [
    "dist_mat.shape"
   ]
  },
  {
   "cell_type": "code",
   "execution_count": null,
   "metadata": {},
   "outputs": [],
   "source": [
    "dist_check = (dist_mat<0.25) * np.ones([750,900])"
   ]
  },
  {
   "cell_type": "code",
   "execution_count": null,
   "metadata": {},
   "outputs": [],
   "source": [
    "inds = np.sum(dist_check,axis=0) == 0"
   ]
  },
  {
   "cell_type": "code",
   "execution_count": null,
   "metadata": {},
   "outputs": [],
   "source": [
    "inds.shape"
   ]
  },
  {
   "cell_type": "code",
   "execution_count": null,
   "metadata": {},
   "outputs": [],
   "source": [
    "blob = blob1[inds,:]"
   ]
  },
  {
   "cell_type": "code",
   "execution_count": null,
   "metadata": {},
   "outputs": [],
   "source": [
    "blob.shape"
   ]
  },
  {
   "cell_type": "code",
   "execution_count": null,
   "metadata": {},
   "outputs": [],
   "source": [
    "plt.scatter(dataS[:,0],dataS[:,1], c=\"k\")\n",
    "plt.scatter(blob[:,0],blob[:,1], c=\"k\")"
   ]
  },
  {
   "cell_type": "code",
   "execution_count": null,
   "metadata": {},
   "outputs": [],
   "source": [
    "red_inds = np.random.choice(225, 3, replace=False)\n",
    "red_inds"
   ]
  },
  {
   "cell_type": "code",
   "execution_count": null,
   "metadata": {},
   "outputs": [],
   "source": [
    "blue_inds = np.random.choice(697, 3, replace=False) + 225\n",
    "blue_inds"
   ]
  },
  {
   "cell_type": "code",
   "execution_count": null,
   "metadata": {},
   "outputs": [],
   "source": [
    "plt.scatter(dataS[:,0],dataS[:,1], c=\"k\")\n",
    "plt.scatter(blob[:,0],blob[:,1], c=\"k\")"
   ]
  },
  {
   "cell_type": "code",
   "execution_count": null,
   "metadata": {},
   "outputs": [],
   "source": [
    "lab7_data = np.vstack([dataS,blob])\n",
    "np.savetxt('lab7data.csv', lab7_data, delimiter=',')"
   ]
  },
  {
   "cell_type": "code",
   "execution_count": null,
   "metadata": {},
   "outputs": [],
   "source": [
    "plt.scatter(lab7_data[:,0],lab7_data[:,1], c=\"k\")\n",
    "plt.scatter(lab7_data[red_inds,0],lab7_data[red_inds,1], c=\"r\")\n",
    "plt.scatter(lab7_data[blue_inds,0],lab7_data[blue_inds,1], c=\"b\")"
   ]
  },
  {
   "cell_type": "code",
   "execution_count": null,
   "metadata": {},
   "outputs": [],
   "source": [
    "rads = 2*math.pi*np.random.rand(100)\n",
    "blob1 = np.array([(1/2)*np.random.rand(100)*np.cos(rads), (1/2)*np.random.rand(100)*np.sin(rads) - 0.6]).T\n",
    "blob2 = np.array([(2/3)*np.random.rand(100)*np.cos(rads) - 2, (2/3)*np.random.rand(100)*np.sin(rads) + 1]).T\n",
    "#blob3 = np.array([(1/2)*np.random.rand(100)*np.cos(rads) - 0.75, (1/2)*np.random.rand(100)*np.sin(rads)]).T\n",
    "blob4 = np.array([(2/3)*np.random.rand(100)*np.cos(rads) - 2, (2/3)*np.random.rand(100)*np.sin(rads) - 2]).T\n",
    "blob5 = np.array([(2/3)*np.random.rand(100)*np.cos(rads) - 2.5, (2/3)*np.random.rand(100)*np.sin(rads) - 0.5]).T\n",
    "blob6 = np.array([(2/3)*np.random.rand(100)*np.cos(rads) + 1.5, (2/3)*np.random.rand(100)*np.sin(rads) + 1.25]).T\n",
    "blob7 = np.array([np.random.rand(100)*np.cos(rads) + 2, np.random.rand(100)*np.sin(rads) - 2]).T"
   ]
  },
  {
   "cell_type": "code",
   "execution_count": null,
   "metadata": {},
   "outputs": [],
   "source": []
  },
  {
   "cell_type": "code",
   "execution_count": null,
   "metadata": {},
   "outputs": [],
   "source": []
  },
  {
   "cell_type": "code",
   "execution_count": null,
   "metadata": {},
   "outputs": [],
   "source": [
    "plt.scatter(dataS[:,0],dataS[:,1])\n",
    "plt.scatter(blob1[:,0],blob1[:,1])\n",
    "plt.scatter(blob2[:,0],blob2[:,1])\n",
    "#plt.scatter(blob3[:,0],blob3[:,1])\n",
    "plt.scatter(blob4[:,0],blob4[:,1])\n",
    "plt.scatter(blob5[:,0],blob5[:,1])\n",
    "plt.scatter(blob6[:,0],blob6[:,1])\n",
    "plt.scatter(blob7[:,0],blob7[:,1])"
   ]
  },
  {
   "cell_type": "code",
   "execution_count": null,
   "metadata": {},
   "outputs": [],
   "source": []
  },
  {
   "cell_type": "code",
   "execution_count": null,
   "metadata": {},
   "outputs": [],
   "source": []
  },
  {
   "cell_type": "code",
   "execution_count": null,
   "metadata": {},
   "outputs": [],
   "source": []
  }
 ],
 "metadata": {
  "kernelspec": {
   "display_name": "Python 3",
   "language": "python",
   "name": "python3"
  },
  "language_info": {
   "codemirror_mode": {
    "name": "ipython",
    "version": 3
   },
   "file_extension": ".py",
   "mimetype": "text/x-python",
   "name": "python",
   "nbconvert_exporter": "python",
   "pygments_lexer": "ipython3",
   "version": "3.8.8"
  }
 },
 "nbformat": 4,
 "nbformat_minor": 2
}
