{
 "cells": [
  {
   "cell_type": "markdown",
   "metadata": {},
   "source": [
    "# Lab 0 - The Adventure Begins...\n",
    "\n",
    "_Note:_ As discussed in the Jupyter Books starting webpage for this lab, you will receive two copies of the second part of Lab 0:    \n",
    "1) the **assignment** version (assigned via GitHub Classroom) and   \n",
    "2) the usual **course materials** version (pulled from the `course-materials` repo). This is the 'usual' version of Lab 0. Most Labs will be available via Jupyter Notebooks `pull`ed from the `course-materials` repo.\n",
    "\n",
    "In general, completion of labs is completely up to you. Each lab will have a **final** thoughts question or request for a post to the #lab_submission channel on Slack. So the **submission step** for _most_ labs is a post on slack.\n",
    "\n",
    "The overarching goal for this lab is to ensure that your computer is ready for the course. In this lab, we will:\n",
    "* Install git, get you connected to GitHub, and connect you to the course GitHub Classroom\n",
    "* Install the packages that you need for now \n",
    "* Introduce you to `jupyter` notebooks\n",
    "\n",
    "\n"
   ]
  },
  {
   "attachments": {},
   "cell_type": "markdown",
   "metadata": {},
   "source": [
    "## Preamble\n",
    "\n",
    "This lab is unusual in a number of ways. First and foremost, it starts on a website. Every lab following will be found on our GitHub Classroom. This first part of the lab will set you up to access our GitHub Classroom. \n",
    "\n",
    "The overarching goal for this lab is to ensure that your computer is ready for the course. In this lab, we will:   \n",
    "* Install git, get you connected to GitHub, and connect you to the course GitHub Classroom\n",
    "* Install the packages that you need for now    \n",
    "* Introduce you to `jupyter` notebooks   \n",
    "\n",
    "## Acknowledgements \n",
    "\n",
    "This lab draws heavily on content from two places:   \n",
    " 1. McFee and Kell’s [Open Source and Reproducible MIR Research Tutorial](https://brianmcfee.net/ismir2018-oss-tutorial/about/) from the Conference of the International Society of Music Information Retrieval (ISMIR) 2018.   \n",
    " 2. Jacob Fiksel’s [GitHub Classroom Guide for Students](https://github.com/jfiksel/github-classroom-for-students)\n",
    "\n",
    "We -- your instructor and her pedagogical partner -- have updated or adapted language from these two sources for our course. This is our first example of where we are **curating** resources for you. The value-add for our curation for _our_ course is that we are 1) updating these documents to be in-line with current practices, and 2) adapting them for our particular course. \n",
    "\n",
    "## Lab outline\n",
    "\n",
    "There are 7 steps for this lab. The first six parts are through this website (compiled via `Jupyter Books`) and the last part will be in a `Jupyter notebook` pulled from the class GitHub Classroom through git. Here are the seven steps: \n",
    " \n",
    " 1. Install (or update) both Anaconda and git   \n",
    " 2. Get an ssh key, connect to GitHub   \n",
    " 3. Prepare your computer to access course materials\n",
    " 4. Clone course-materials to your computer\n",
    " 5. Receive an **assignment** in GitHub Classroom\n",
    " 6. Use conda to install a few packages  \n",
    " 7. Run the local version of the lab on your computer\n",
    "\n",
    "Once we have completed these seven steps, you will be ready to interact with Lab0 in Jupyter Notebooks.\n",
    "\n",
    "#### We have already completed steps 1-6\n",
    "\n",
    "To review these steps, please visit [this website](https://comp-machine-learning-spring2022.github.io/Lab-0/intro.html). \n"
   ]
  },
  {
   "cell_type": "markdown",
   "metadata": {},
   "source": [
    "## Checkpoint 1\n",
    "\n",
    "If you arrived here, then you have correctly set up git, connected to GitHub, and connected the assignment version of Lab 0. Excellent work! \n",
    "\n",
    "Remember that you will be receiving an email inviting you to the full GitHub classroom. _**Please accept this!**_ All materials for the course -- including labs, slides, homework -- will be on our GitHub Classroom. Moodle will rarely be used for our course _except_ as the place where I will report the grades for the course. \n",
    "\n",
    "\n",
    "<sub>**_Note_**: Moodle does not calculate your grade as I will at the end of the term. It's just not functionality that Moodle has. If you want to track in the style that I will at the end of term, please copy [this form](https://docs.google.com/spreadsheets/u/1/d/1pKNHlRZwmCvE7HHmYuDWvVBTiaQRO0vwkSJZ-9OxlQM/edit?usp=sharing) into your Google drive. </sub>"
   ]
  },
  {
   "cell_type": "markdown",
   "metadata": {},
   "source": [
    "## Welcome to `Jupyter`! \n",
    "\n",
    "This kind of file is known as a `jupyter notebook`. It is a kind of file where we can both code and write in small _cells_. Our labs will largely be `jupyter notebook`s. The goal of this section is to get used to a few of the functions within a `jupyter notebook`. \n",
    "\n",
    "Notebooks like these are quite standard in industry and academia alike. We can use them for testing ideas before putting something into production or to communicate about an existing package or library. For each homework assignment I recommend making your own notebook to act as a place for your scratch work. \n",
    "\n",
    "To learn more about the features of `jupyter notebook`s, check out 'Python for Data Analysis' starting at the bottom of page 18 through page 24."
   ]
  },
  {
   "cell_type": "markdown",
   "metadata": {},
   "source": [
    "## Creating a new notebook\n",
    "\n",
    "When you opened this window, you created a new tab in your internet application. Leaving this tab open, click on the tab that originally opened. In the top right of the window, you will see two buttons \"Quit\" and \"Logout\". Do **not** click these. Instead look down to the next set of buttons `Upload` and `New`. \n",
    "\n",
    "Click on `New` and select `Python 3`. A new notebook should open in your internet application window. \n",
    "\n",
    "Next to the jupyter logo, it will say _Untitled_. Give your notebook a name. Something like `Lab0-scratch` is great!"
   ]
  },
  {
   "cell_type": "markdown",
   "metadata": {},
   "source": [
    "## Cells\n",
    "\n",
    "Everything in `jupyter` is run in cells. In our course, we will primarily be using `code` and Markdown cells. The `code` cells will be running Python underneath and the Markdown files will let you stylize text using a version of Markdown. \n",
    "\n",
    "### Code Cell\n",
    "\n",
    "When you opened your notebook, there was a grey box that appeared just below the menus. Move your cursor inside that box. Borrowing from [Part 7](https://bmcfee.github.io/ismir2018-oss-tutorial/tutorial/2018/08/16/part-7.html) of McFee and Kell’s Tutorial, try the following in your cell: \n",
    "* Type `print(\"Hello Jupyter\")`\n",
    "* In the menu, click \"Run\"\n",
    "\n",
    "You should see `Hello Jupyter` as output just below your cell, followed by another grey cell. \n",
    "\n",
    "### Markdown Cell\n",
    "\n",
    "We are going to turn this new gret cell into a Markdown cell. In the menu, a few buttons over from \"Run\", you should see a drop down menu currently set to \"Code\". Click on this menu and select \"Markdown.\" Now this cell will not engage with Python (unless of course, you re-select \"Code\".)\n",
    "\n",
    "In the **Markdown** cell, try the following:\n",
    "* Type `print(\"Hello Jupyter\")`\n",
    "* In the menu, click \"Run\"\n",
    "\n",
    "What happens? \n",
    "\n",
    "Just like the code cells, we can always edit these boxes by double-clicking on the resulting text. I think of the Run button as a sort of publish button for my markdown text. "
   ]
  },
  {
   "cell_type": "markdown",
   "metadata": {},
   "source": [
    "## Saving our work\n",
    "\n",
    "This section will borrow from a section of [Part 3](https://bmcfee.github.io/ismir2018-oss-tutorial/tutorial/2018/08/16/part-1.html) as adapted to our class. As before, any text in <font color='purple'>purple</font> (with edits in black) is directly lifted from McFee and Kell’s Tutorial with permission from the authors.\n",
    "\n",
    "<font color='purple'>We</font> created a new notebook<font color='purple'>, hooray! But we’ve only </font>created it in <font color='purple'>our local version. Let’s commit this to our local git repository, and then update our code on GitHub.</font>    \n",
    "\n",
    "<font color='purple'>First, make a new branch to work on. Working in a branch means that we can do whatever we want without breaking our main code. Do `git checkout -b new-notebook`.</font>   \n",
    "\n",
    "<font color='purple'>Next, add and commit your files: `git add Lab0-scratch.ipynb`, then git commit -m \"Adding my first jupyter notebook\" </font>   \n",
    "* **_Note_**: If you want to commit all changes to all files, you can use `git add -A`.\n",
    "\n",
    "<font color='purple'>Rad! We’ve saved our work locally. To push your code to GitHub, do `git push origin new-notebook`.</font>   \n",
    "\n",
    "<font color='purple'>(You can think of all this git and GitHub magic like you are mailing something to a friend. `git checkout -b` creates the letter you’re going to mail. `git add` selects what you’re going to put into your letter. `git commit` puts the changes into your letter, and then `git push` sends your paper to the post office.)</font>   \n",
    "\n",
    "<font color='purple'>We want to get in the habit of keeping our online work up to date with our local work. So let’s go look at GitHub, and merge this branch there.</font>   \n",
    "* <font color='purple'>Visit GitHub, and find your fork of this repository: https://github.com/</font>   \n",
    "* <font color='purple'>You’ll see a list of branches - select `new-notebook`.</font>   \n",
    "* <font color='purple'>You’ll see a small button that says **New pull request**. Press it!</font>   \n",
    "* <font color='purple'>You’ll get taken to a page that says Comparing changes, and should see a dropdown that says Base fork: ___.</font>   \n",
    "* <font color='purple'>**You may need to change this!**</font>   \n",
    "* <font color='purple'>You need to select</font> left <font color='purple'>dropdown and change it to point to your fork, with your username. </font> Once you do this the left drop down should read `base: main`. Next we need to update the right dropdown. You want this to read `compare: new-notebook`. \n",
    "* <font color='purple'>After this, you’ll be taken to a nice web form. Put in the reasons for your changes, and press **Create Pull Request**.</font>\n",
    "\n",
    "<font color='purple'> Hooray, you’ve made a Pull Request! Pull Requests (PRs) are the best way to contribute code to a project. You can review & comment on the proposed changes before merging them, or request that things be improved. To finish the mail metaphor, a Pull Request is like adding some notes to your letter about what it is supposed to do and why you are sending it.</font>    \n",
    "\n",
    "<font color='purple'> 🙏🙏🙏 Here’s an important aside: when discussing code in PRs, please be nice! It’s really easy for a neutral comment to be read as mean, and it’s really easy to alienate people by being mean.</font>      \n",
    "<font color='purple'> You should do your best to very polite and kind when dealing with people on GitHub (and probably on computers in general). 🙏🙏🙏</font>    \n",
    "\n",
    "<font color='purple'> With that said, let’s merge our PR! This will add the changes from your branch to the main branch.</font>   \n",
    "\n",
    "* <font color='purple'> Press **Merge**. GitHub will merge your commit into main.</font>\n",
    "* <font color='purple'> Now your online repo is up to date, so let’s update your local.</font>\n",
    "* <font color='purple'> In your command line, run `git checkout main`.</font>\n",
    "* <font color='purple'> Next, do git pull origin main to update your local copy. You’ll see that git adds your commit from GitHub to your local copy.</font>\n",
    "* <font color='purple'> Finally, do git branch -d update-conda-env to delete your local branch – you’ve merged the commits to main, so you can delete it.</font>\n",
    "\n",
    "\n",
    "<font color='purple'>We’ve just gone over the basic git and GitHub workflow that you should, in general, stick with: </font> <sub>(Stated here as a list for emphasis)</sub>\n",
    "1. make a branch, \n",
    "2. make some changes, \n",
    "3. run tests -- (we will get to this in Lab 1) --, \n",
    "4. commit, \n",
    "5. push, \n",
    "6. merge, \n",
    "7. clean up.\n",
    "\n",
    "<font color='purple'>This means that you never have untested code in main, and it means that main is always functional. It also means that the online, “deployed” version of main is your primary version, and that you (and maybe many other collaborators) just have a local version that you’re working on.</font>   \n",
    "\n",
    "<font color='purple'>We’ll come back to why this method is useful when we talk about tests</font> (in Lab 1)<font color='purple'>. If you like, you can read [more about this way of working with code on GitHub](https://guides.github.com/introduction/flow/).</font>"
   ]
  },
  {
   "cell_type": "markdown",
   "metadata": {},
   "source": [
    "### Final Thoughts\n",
    "\n",
    "To finish up this lab, create at least 3 code cells and at least 3 markdown cells. Fill your cells with a variety of python commands (in the code cells) and markdown commands (in the markdown cells). Commit your changes to your homework repository. I will check these to ensure that everything went smoothly. \n",
    "\n",
    "Then create a post to **#lab_submission** channel something cool that you learned from this lab. \n",
    "\n",
    "If your have questions from this lab, post them to #lab_questions with the same preamble (i.e. starting with **Lab0**). If you have the same question, please use one of the emoji's to upvote the question. If you would like to answer someone's question, please use the thread function. This will tie your answer to their question. "
   ]
  },
  {
   "cell_type": "markdown",
   "metadata": {},
   "source": [
    "### Resources Consulted\n",
    "\n",
    "1. McFee and Kell’s [Open Source and Reproducible MIR Research Tutorial](https://brianmcfee.net/ismir2018-oss-tutorial/about/) from the Conference of the International Society of Music Information Retrieval (ISMIR) 2018.   \n",
    "2. Jacob Fiksel’s [GitHub Classroom Guide for Students](https://github.com/jfiksel/github-classroom-for-students)  \n",
    "3. [How to Use the Equivalent of the \"ls\" Command in Windows](https://www.makeuseof.com/windows-is-command/)\n",
    "4. [Command Prompt: 11 basic commands you should know (cd, dir, mkdir, etc.)](https://www.digitalcitizen.life/command-prompt-how-use-basic-commands/) "
   ]
  }
 ],
 "metadata": {
  "kernelspec": {
   "display_name": "Python 3",
   "language": "python",
   "name": "python3"
  },
  "language_info": {
   "codemirror_mode": {
    "name": "ipython",
    "version": 3
   },
   "file_extension": ".py",
   "mimetype": "text/x-python",
   "name": "python",
   "nbconvert_exporter": "python",
   "pygments_lexer": "ipython3",
   "version": "3.8.8"
  }
 },
 "nbformat": 4,
 "nbformat_minor": 2
}
