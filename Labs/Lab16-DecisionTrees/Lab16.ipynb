{
 "cells": [
  {
   "cell_type": "markdown",
   "metadata": {},
   "source": [
    "# Lab 16\n",
    "\n",
    "Today, we will continue our journey through the classification task within supervised learning. Today we will explore some of the ingredients of decision trees before learning how to implement them in `sklearn`. Today's goals are: \n",
    "\n",
    "0. Explain why SVMs and decision trees are different approaches to classification \n",
    "1. Define the Gini Index \n",
    "2. Detail the process for decision trees. "
   ]
  },
  {
   "cell_type": "markdown",
   "metadata": {},
   "source": [
    "### Imports for Today\n",
    "\n",
    "We begin as usual, importing the packages and data that we need. "
   ]
  },
  {
   "cell_type": "code",
   "execution_count": null,
   "metadata": {},
   "outputs": [],
   "source": [
    "## Import block\n",
    "%matplotlib inline\n",
    "\n",
    "import matplotlib.pyplot as plt\n",
    "import seaborn as sns; sns.set()\n",
    "\n",
    "import numpy as np\n",
    "import pandas as pd\n",
    "\n",
    "from sklearn.tree import DecisionTreeClassifier\n",
    "\n",
    "from sklearn.tree import export_graphviz\n",
    "from sklearn.externals.six import StringIO \n",
    "from IPython.display import Image \n",
    "from pydot import graph_from_dot_data"
   ]
  },
  {
   "cell_type": "markdown",
   "metadata": {},
   "source": [
    "## Add a conda package!\n",
    "\n",
    "If you got a (non-deprecation) error, you may need to exit jupyter and add `pydot` to your conda environment. "
   ]
  },
  {
   "cell_type": "code",
   "execution_count": null,
   "metadata": {},
   "outputs": [],
   "source": [
    "def gini_leaf(leaf_data, class_var):\n",
    "    \n",
    "    # Result should be a single number \n",
    "    pass\n",
    "\n",
    "\n",
    "def gini_decision(data_decide, decision_var):\n",
    "    # Result should be a single number\n",
    "    pass\n",
    "\n",
    "def info_gain(data_decide, decision_var, class_var):\n",
    "    # Result should be a single number\n",
    "    pass\n",
    "\n",
    "def apply_decision(input_data, variable, answer_list):\n",
    "    # Result should be a single number\n",
    "    pass"
   ]
  },
  {
   "cell_type": "code",
   "execution_count": null,
   "metadata": {},
   "outputs": [],
   "source": [
    "# For function testing \n",
    "\n"
   ]
  },
  {
   "cell_type": "code",
   "execution_count": null,
   "metadata": {},
   "outputs": [],
   "source": [
    "## Import Data\n",
    "\n",
    "weather_data = np.genfromtxt(\"lab16data.csv\", delimiter=',', skip_header=1)\n",
    "weather_pd = pd.read_csv(\"lab16data.csv\", sep = \",\")\n"
   ]
  },
  {
   "attachments": {
    "decisionTree.png": {
     "image/png": "[encoded data removed]"
    }
   },
   "cell_type": "markdown",
   "metadata": {},
   "source": [
    "## From SVMs to Decision Trees\n",
    "\n",
    "In our discussion of SVMs, we did not attempt to interpret nor to explain _why_ one data point gets labeled. In SVM, we have a boundary and we might be able to twist ourselves into an \"explanation\" but we may want a transparent set of questions that lead us to our classifications. This is the intuition behind **decision trees.**\n",
    "\n",
    "Decision trees are trees where each **branch** represents a decision based on a specific variable. Consider the following situation; we want to classify days into likely to rain and unlikely to rain. Our goal is to build something like this infographic that tells us how to decide if it will rain or not: \n",
    "\n",
    "![decisionTree.png](attachment:decisionTree.png)\n",
    "\n",
    "At the top **node,** we represent our first decision. Then based on whether a morning is cloudy or not, we either examine the humidity or the temperature of the day. \n",
    "\n",
    "The bottom nodes of a decision tree are called **leaves.** Each leaf is the group of data points that followed the series of decisions encoded in that branch. (A _leaf_ is a node with no branches under it.)"
   ]
  },
  {
   "cell_type": "markdown",
   "metadata": {},
   "source": [
    "### Gini Impurity - A goodness measure for decision trees\n",
    "\n",
    "As we make these decisions, we want to quantify the \"goodness\" of our decisions. The **Gini Impurity** is one such way that we can quantify goodness. (Annoyingly, most definitions of the Gini Index use the word of \"purity\" to describe \"homogenity\" or the proportion of things that are the same in the current node. We're going to use the word \"homogenity.\") \n",
    "\n",
    "#### Gini for a leaf\n",
    "\n",
    "The Gini impurity for a *leaf* tells us if the leaf is mostly one single class or if it is a mix of classes. We compute the Gini Impurity for a leaf as follows:\n",
    "\n",
    "\\begin{equation}\n",
    "\\textrm{Gini Impurity}_{leaf} = 1 - \\sum_{C, possible classes}\\left(\\dfrac{\\textrm{data points in the leaf in class C}}{\\textrm{total in the leaf}}\\right)^2\n",
    "\\end{equation}"
   ]
  },
  {
   "cell_type": "markdown",
   "metadata": {},
   "source": [
    "Let's try an example. Suppose there are 7 humid cloudy mornings. Of those, five end-up as rainy days and 2 end up as not rainy. What is the Gini Impurity of this node? "
   ]
  },
  {
   "cell_type": "markdown",
   "metadata": {},
   "source": [
    "**Your Thoughts here**"
   ]
  },
  {
   "cell_type": "markdown",
   "metadata": {},
   "source": [
    "For good measure, let's compute another Gini value. Suppose there are 10 cloudy but not humid days. Of those, it rains on 3 of them (and the rest are non-rainy). What is the Gini for this leaf? "
   ]
  },
  {
   "cell_type": "markdown",
   "metadata": {},
   "source": [
    "**Your Thoughts here**"
   ]
  },
  {
   "cell_type": "markdown",
   "metadata": {},
   "source": [
    "**Questions** \n",
    "* What does it mean for a leaf to have a Gini value of 1?\n",
    "* What does it mean for a leaf to have a Gini value of 0?"
   ]
  },
  {
   "cell_type": "markdown",
   "metadata": {},
   "source": [
    "**Your Thoughts here**"
   ]
  },
  {
   "cell_type": "markdown",
   "metadata": {},
   "source": [
    "**Your Turn** Add to the `gini_leaf` function so that it computes the Gini value for a leaf based on the data in that leaf. The inputs for `gini_leaf` should be the data slice that is contained in that leaf and column number that the labels are in. "
   ]
  },
  {
   "cell_type": "code",
   "execution_count": null,
   "metadata": {},
   "outputs": [],
   "source": [
    "## A few hints, notes on GINI_LEAF\n",
    "\n",
    "# Input is 1) only the data in this leaf and \n",
    "#          2) the location of the classes\n",
    "leaves = data[???,:]\n",
    "\n",
    "leaf_size = ???\n",
    "\n",
    "# Start by figuring out how many classes/labels there are in this leaf\n",
    "num_class = max(???)\n",
    "\n",
    "# The output is the Gini Impurity for a LEAF. \n",
    "# Given the above formula, how might you initialize this before a loop?\n",
    "\n",
    "# Loop over the number of classes:\n",
    "# - figure out the number of datapoints in the leaf in each class\n",
    "# - divide the above by the total number of data points in the leaf\n",
    "# - square the result"
   ]
  },
  {
   "cell_type": "markdown",
   "metadata": {},
   "source": [
    "#### Gini for the node\n",
    "\n",
    "Each decision is encoded as a node. Some decisions result in leaves (like the humidity and hot questions from the image) and other decisions result in more nodes (like the cloudy questions).  \n",
    "\n",
    "Like leaves, we have a notion of Gini Impurity for the node. For nodes, we want to understand how balanced/even the decision we make is. To do this, we look how many datapoints end up on each \"side\" of the decision: \n",
    "\n",
    "\\begin{equation}\n",
    "\\textrm{Gini Impurity}_{node} = 1 - \\sum_{L, possible leaves/answers}\\left(\\dfrac{\\textrm{data points in the leaf/answer}}{\\textrm{total data asked the question}}\\right)^2\n",
    "\\end{equation}\n",
    "\n",
    "For the leaves that we are looking at, our last decision was based on the humidity of the morning. Using the Gini values for each of the resulting leaves, we can determine a Gini value for the humidity node in terms of the answer to the humidity question as follows: \n",
    "\n",
    "\\begin{equation}\n",
    "\\textrm{Gini Impurity}_{humid} = 1 - \\left(\\dfrac{\\textrm{days that are humid}}{\\textrm{total data cloudy days}}\\right)^2 - \\left(\\dfrac{\\textrm{days that are not humid}}{\\textrm{total data cloudy days}}\\right)^2\n",
    "\\end{equation}\n",
    "\n",
    "Compute the Gini Impurity for the humidity node, given the information from the previous section. "
   ]
  },
  {
   "cell_type": "markdown",
   "metadata": {},
   "source": [
    "**Your Thoughts here**"
   ]
  },
  {
   "cell_type": "markdown",
   "metadata": {},
   "source": [
    "**Questions** \n",
    "* What does it mean for a decision to have a Gini value of 1?\n",
    "* What does it mean for a decision to have a Gini value of 0?\n",
    "* Are either of these situations possible? "
   ]
  },
  {
   "cell_type": "markdown",
   "metadata": {},
   "source": [
    "**Your Thoughts here**"
   ]
  },
  {
   "cell_type": "markdown",
   "metadata": {},
   "source": [
    "**Your Turn** Add to the `gini_decision` function so that it computes the Gini value for a decision based on the data in that decision is applied to."
   ]
  },
  {
   "cell_type": "code",
   "execution_count": null,
   "metadata": {},
   "outputs": [],
   "source": [
    "## A few hints, notes on GINI_DECISION\n",
    "\n",
    "# Input is 1) only the data that you apply the decision to \n",
    "#          2) the location of the variable you are using for your decision\n",
    "\n",
    "node_data = data[???,:]\n",
    "\n",
    "# Figure out the amount of data that you are applying this decision to\n",
    "node_size = ???\n",
    "\n",
    "# Figure out how leaves/decisions result from this question/decision\n",
    "# Ex: Humid? There are two options: Yes and No (encoded as 1 and 0)\n",
    "num_decisions = max(???)\n",
    "\n",
    "# The output is the Gini Impurity for a NODE. \n",
    "# Given the above formula, how might you initialize this before a loop?\n",
    "\n",
    "# Loop over the number of resulting decisions:\n",
    "# - figure out the number of datapoints in the leaf/answer in each class\n",
    "# - divide the above by the total number of data points in this node\n",
    "# - square the result"
   ]
  },
  {
   "cell_type": "markdown",
   "metadata": {},
   "source": [
    "### Information Gain \n",
    "\n",
    "At this point, we've computed some notion of how homogenous the leaves that result from our humidity decision is. But we have no concept of if this is \"good\" or not. To encode that, we compute **information gain** or how much did we _learn_ by splitting our days based on their humidity. \n",
    "\n",
    "Computing **information gain** for a node uses as weighted aggregate of the Gini values:\n",
    "\n",
    "\\begin{equation}\n",
    "\\textrm{Information Gain}_{node} = \\textrm{Gini Impurity}_{node} - \\sum_{L}\\left(\\dfrac{\\textrm{data points in the leaf}}{\\textrm{total data asked the question}}\\right)*\\textrm{Gini of Leaf}\n",
    "\\end{equation}\n",
    "\n",
    "Or to put it more concretely for our situation:\n",
    "\n",
    "\\begin{equation}\n",
    "\\textrm{Information Gain}_{humid} = \\textrm{Gini Impurity}_{humid} - \\left(\\dfrac{\\textrm{days that are humid}}{\\textrm{total data cloudy days}}\\right)*\\textrm{Gini humid} - \\left(\\dfrac{\\textrm{days that are not humid}}{\\textrm{total data cloudy days}}\\right)*\\textrm{Gini of not humid}\n",
    "\\end{equation}\n",
    "\n",
    "Compute the information gain for our situation. "
   ]
  },
  {
   "cell_type": "markdown",
   "metadata": {},
   "source": [
    "**Your Thoughts here**"
   ]
  },
  {
   "cell_type": "markdown",
   "metadata": {},
   "source": [
    "**Your Turn** Add to the `info_gain` function so that it computes the information gain for a decision based on the data in that leaf. "
   ]
  },
  {
   "cell_type": "code",
   "execution_count": null,
   "metadata": {},
   "outputs": [],
   "source": [
    "## A few hints, notes on INFO_GAIN\n",
    "\n",
    "# Input is 1) only the data that you apply the decision to \n",
    "#          2) the location of the variable you are using for your decision\n",
    "#          3) the location of the classes\n",
    "\n",
    "\n",
    "# Note that the above equation relies on the Gini for the node AND \n",
    "# for the resulting leaves. Your function will call both GINI_LEAF \n",
    "# and GINI_DECISION\n",
    "\n",
    "\n",
    "# What should you loop over? What do you need to initialize? \n",
    "\n",
    "\n"
   ]
  },
  {
   "cell_type": "markdown",
   "metadata": {},
   "source": [
    "#### Reference for the above section\n",
    "(The above block was heavily based on [this post](https://towardsdatascience.com/decision-tree-in-python-b433ae57fb93))"
   ]
  },
  {
   "cell_type": "markdown",
   "metadata": {},
   "source": [
    "## Intuition for decision trees\n",
    "\n",
    "In decision trees, we start with all the data and try various decisions for splitting our data. Each decision uses **exactly** one variable, but can have more than 2 answers. To decide which decision is best, we select the one that has the best information gain. Then we repeat the process on each leaf that is created until either 1) a leaf has a Gini value of 1 or 2) you have run out of variables to use in the path to that node. "
   ]
  },
  {
   "cell_type": "markdown",
   "metadata": {},
   "source": [
    "## Decision Trees in `sklearn`\n",
    "\n",
    "Let's see how decision trees in `sklearn` work. It should come as no surprise that we will first specify our decision tree model, and then fit the decision tree model to some data. \n",
    "\n",
    "#### Today's data\n",
    "\n",
    "The data today is (truly made-up) weather data. Each row represents a day. The data recorded for each day are:   \n",
    "* cloudy\n",
    "* humid\n",
    "* temp\t\n",
    "* rained_yesterday\n",
    "* raining_today\n",
    "\n",
    "Each variable only has two possibilities: `1` (yes) and `0` (no). Our goal is label days into either raining today or not raining today. "
   ]
  },
  {
   "cell_type": "code",
   "execution_count": null,
   "metadata": {},
   "outputs": [],
   "source": [
    "# Split into the input variables and the target classes\n",
    "in_weather = weather_data[:,:4]\n",
    "out_class = weather_data[:,4]\n",
    "\n",
    "# Get the variable names \n",
    "var_names = list(weather_pd.columns)[:4]"
   ]
  },
  {
   "cell_type": "code",
   "execution_count": null,
   "metadata": {},
   "outputs": [],
   "source": [
    "# Specify our model\n",
    "dt = DecisionTreeClassifier()"
   ]
  },
  {
   "cell_type": "code",
   "execution_count": null,
   "metadata": {},
   "outputs": [],
   "source": [
    "# Fit our model to the data\n",
    "dt.fit(in_weather, out_class)"
   ]
  },
  {
   "cell_type": "markdown",
   "metadata": {},
   "source": [
    "Umm... this is not easy to \"look\" at. Referring again to [this post](https://towardsdatascience.com/decision-tree-in-python-b433ae57fb93), we adjust their code to create a visual output of our decision tree: "
   ]
  },
  {
   "cell_type": "code",
   "execution_count": null,
   "metadata": {},
   "outputs": [],
   "source": [
    "dot_data = StringIO()\n",
    "\n",
    "export_graphviz(dt, out_file=dot_data, feature_names=var_names)\n",
    "(dt_vis, ) = graph_from_dot_data(dot_data.getvalue())\n",
    "\n",
    "Image(dt_vis.create_png())"
   ]
  },
  {
   "cell_type": "markdown",
   "metadata": {},
   "source": [
    "**Question** What do you notice about this image? What is encoded? What is left out? "
   ]
  },
  {
   "cell_type": "markdown",
   "metadata": {},
   "source": [
    "### Next time\n",
    "\n",
    "Next time, we will look at ensemble methods which aggregates several methods together. The specific example that we will explore are **random forests.** Random forests are based on a collection of decision trees. "
   ]
  },
  {
   "cell_type": "markdown",
   "metadata": {},
   "source": [
    "### Final Thoughts\n",
    "\n",
    "To finish up this lab:    \n",
    "1. Create an image of your `sklearn` decision tree. \n",
    "2. Look up one recent day's weather in the last week (for wherever you are and/or where you would like to be) and create a datapoint for that day (i.e. list out whether it was cloudy, humid, hot, and if it rained the previous day). \n",
    "3. Using your `sklearn` image of your decision tree, decide if it rained that day or not (according to the decision tree). \n",
    "4. Compare what actually happened to the decision from the decision tree. Are they the same? \n",
    "Share your comparisons in a post on **#lab16_submission** channel on slack with your answer. \n",
    "\n",
    "If your have questions from this lab, post them to #lab_questions with the same preamble (i.e. starting with **Lab16**). If you have the same question, please use one of the emoji's to upvote the question. If you would like to answer someone's question, please use the thread function. This will tie your answer to their question. "
   ]
  },
  {
   "cell_type": "markdown",
   "metadata": {},
   "source": [
    "#### Resources consulted \n",
    "\n",
    "0. [ISLR](http://faculty.marshall.usc.edu/gareth-james/ISL/)\n",
    "1. [SDS 293 Notes by R. Jordan Crouser](http://www.science.smith.edu/~jcrouser/SDS293/)\n",
    "2. [Decision Tree In Python](https://towardsdatascience.com/decision-tree-in-python-b433ae57fb93)\n",
    "3. [Decision Tree Algorithm With Hands On Example](https://medium.com/datadriveninvestor/decision-tree-algorithm-with-hands-on-example-e6c2afb40d38)"
   ]
  }
 ],
 "metadata": {
  "kernelspec": {
   "display_name": "Python 3",
   "language": "python",
   "name": "python3"
  },
  "language_info": {
   "codemirror_mode": {
    "name": "ipython",
    "version": 3
   },
   "file_extension": ".py",
   "mimetype": "text/x-python",
   "name": "python",
   "nbconvert_exporter": "python",
   "pygments_lexer": "ipython3",
   "version": "3.7.3"
  }
 },
 "nbformat": 4,
 "nbformat_minor": 2
}
