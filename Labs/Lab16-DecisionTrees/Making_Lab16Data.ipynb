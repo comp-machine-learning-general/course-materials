{
 "cells": [
  {
   "cell_type": "code",
   "execution_count": 11,
   "id": "dutch-cinema",
   "metadata": {},
   "outputs": [],
   "source": [
    "import pandas as pd\n",
    "import numpy as np"
   ]
  },
  {
   "cell_type": "code",
   "execution_count": 12,
   "id": "parliamentary-chapter",
   "metadata": {},
   "outputs": [
    {
     "name": "stdout",
     "output_type": "stream",
     "text": [
      "(391, 41)\n"
     ]
    },
    {
     "data": {
      "text/plain": [
       "Index(['Breed Name', 'Detailed Description Link', 'Dog Size',\n",
       "       'Dog Breed Group', 'Height', 'Avg. Height, cm', 'Weight',\n",
       "       'Avg. Weight, kg', 'Life Span', 'Avg. Life Span, years', 'Adaptability',\n",
       "       'Adapts Well To Apartment Living', 'Good For Novice Owners',\n",
       "       'Sensitivity Level', 'Tolerates Being Alone', 'Tolerates Cold Weather',\n",
       "       'Tolerates Hot Weather', 'All Around Friendliness',\n",
       "       'Affectionate With Family', 'Kid-Friendly', 'Dog Friendly',\n",
       "       'Friendly Toward Strangers', 'Health And Grooming Needs',\n",
       "       'Amount Of Shedding', 'Drooling Potential', 'Easy To Groom',\n",
       "       'General Health', 'Potential For Weight Gain', 'Size', 'Trainability',\n",
       "       'Easy To Train', 'Intelligence', 'Potential For Mouthiness',\n",
       "       'Prey Drive', 'Tendency To Bark Or Howl', 'Wanderlust Potential',\n",
       "       'Physical Needs', 'Energy Level', 'Intensity', 'Exercise Needs',\n",
       "       'Potential For Playfulness'],\n",
       "      dtype='object')"
      ]
     },
     "execution_count": 12,
     "metadata": {},
     "output_type": "execute_result"
    }
   ],
   "source": [
    "## Import Data\n",
    "\n",
    "dog_pd = pd.read_csv(\"original_lab16data.csv\", sep = \",\")\n",
    "print(dog_pd.shape)\n",
    "dog_pd.columns"
   ]
  },
  {
   "cell_type": "markdown",
   "id": "single-glass",
   "metadata": {},
   "source": [
    "### Create Binary Variables"
   ]
  },
  {
   "cell_type": "code",
   "execution_count": 13,
   "id": "plain-wallace",
   "metadata": {},
   "outputs": [
    {
     "name": "stdout",
     "output_type": "stream",
     "text": [
      "(391, 42)\n"
     ]
    }
   ],
   "source": [
    "# create binary variables\n",
    "dog_pd['Good For Novice Owners'] = dog_pd['Good For Novice Owners'] > 3\n",
    "dog_pd['Easy To Train'] = dog_pd['Easy To Train'] > 3\n",
    "dog_pd['Kid-Friendly'] = dog_pd['Kid-Friendly'] > 3\n",
    "dog_pd['High-Energy'] = dog_pd['Energy Level'] > 3\n",
    "# dog_pd['Adaptable'] = dog_pd['Adaptability'] > 3\n",
    "print(dog_pd.shape)"
   ]
  },
  {
   "cell_type": "markdown",
   "id": "russian-swiss",
   "metadata": {},
   "source": [
    "### Cut Down Number of Variables"
   ]
  },
  {
   "cell_type": "code",
   "execution_count": 14,
   "id": "second-burden",
   "metadata": {},
   "outputs": [
    {
     "name": "stdout",
     "output_type": "stream",
     "text": [
      "(391, 12)\n"
     ]
    }
   ],
   "source": [
    "# cut down number of variables\n",
    "columns = ['Breed Name', 'Size', 'Avg. Life Span, years', 'Wanderlust Potential', 'Adaptability', 'All Around Friendliness', 'Health And Grooming Needs', 'Physical Needs', 'Easy To Train', 'Kid-Friendly', 'High-Energy', 'Good For Novice Owners']\n",
    "dog_pd = dog_pd[columns]\n",
    "print(dog_pd.shape)"
   ]
  },
  {
   "cell_type": "code",
   "execution_count": 15,
   "id": "invisible-shade",
   "metadata": {},
   "outputs": [
    {
     "data": {
      "text/html": [
       "<div>\n",
       "<style scoped>\n",
       "    .dataframe tbody tr th:only-of-type {\n",
       "        vertical-align: middle;\n",
       "    }\n",
       "\n",
       "    .dataframe tbody tr th {\n",
       "        vertical-align: top;\n",
       "    }\n",
       "\n",
       "    .dataframe thead th {\n",
       "        text-align: right;\n",
       "    }\n",
       "</style>\n",
       "<table border=\"1\" class=\"dataframe\">\n",
       "  <thead>\n",
       "    <tr style=\"text-align: right;\">\n",
       "      <th></th>\n",
       "      <th>Breed Name</th>\n",
       "      <th>Size</th>\n",
       "      <th>Avg. Life Span, years</th>\n",
       "      <th>Wanderlust Potential</th>\n",
       "      <th>Adaptability</th>\n",
       "      <th>All Around Friendliness</th>\n",
       "      <th>Health And Grooming Needs</th>\n",
       "      <th>Physical Needs</th>\n",
       "      <th>Easy To Train</th>\n",
       "      <th>Kid-Friendly</th>\n",
       "      <th>High-Energy</th>\n",
       "      <th>Good For Novice Owners</th>\n",
       "    </tr>\n",
       "  </thead>\n",
       "  <tbody>\n",
       "    <tr>\n",
       "      <th>0</th>\n",
       "      <td>Afador</td>\n",
       "      <td>4</td>\n",
       "      <td>11</td>\n",
       "      <td>4</td>\n",
       "      <td>2.4</td>\n",
       "      <td>3.00</td>\n",
       "      <td>3.2</td>\n",
       "      <td>4.00</td>\n",
       "      <td>False</td>\n",
       "      <td>False</td>\n",
       "      <td>True</td>\n",
       "      <td>False</td>\n",
       "    </tr>\n",
       "    <tr>\n",
       "      <th>1</th>\n",
       "      <td>Affenhuahua</td>\n",
       "      <td>1</td>\n",
       "      <td>16</td>\n",
       "      <td>2</td>\n",
       "      <td>3.0</td>\n",
       "      <td>3.00</td>\n",
       "      <td>3.2</td>\n",
       "      <td>3.33</td>\n",
       "      <td>False</td>\n",
       "      <td>False</td>\n",
       "      <td>True</td>\n",
       "      <td>True</td>\n",
       "    </tr>\n",
       "    <tr>\n",
       "      <th>2</th>\n",
       "      <td>Affenpinscher</td>\n",
       "      <td>1</td>\n",
       "      <td>13</td>\n",
       "      <td>2</td>\n",
       "      <td>3.2</td>\n",
       "      <td>3.33</td>\n",
       "      <td>2.4</td>\n",
       "      <td>3.33</td>\n",
       "      <td>False</td>\n",
       "      <td>False</td>\n",
       "      <td>True</td>\n",
       "      <td>True</td>\n",
       "    </tr>\n",
       "    <tr>\n",
       "      <th>3</th>\n",
       "      <td>Afghan Hound</td>\n",
       "      <td>4</td>\n",
       "      <td>11</td>\n",
       "      <td>5</td>\n",
       "      <td>4.0</td>\n",
       "      <td>4.67</td>\n",
       "      <td>2.0</td>\n",
       "      <td>3.67</td>\n",
       "      <td>False</td>\n",
       "      <td>True</td>\n",
       "      <td>True</td>\n",
       "      <td>False</td>\n",
       "    </tr>\n",
       "    <tr>\n",
       "      <th>4</th>\n",
       "      <td>Airedale Terrier</td>\n",
       "      <td>3</td>\n",
       "      <td>12</td>\n",
       "      <td>4</td>\n",
       "      <td>2.2</td>\n",
       "      <td>4.00</td>\n",
       "      <td>2.4</td>\n",
       "      <td>4.33</td>\n",
       "      <td>True</td>\n",
       "      <td>True</td>\n",
       "      <td>True</td>\n",
       "      <td>False</td>\n",
       "    </tr>\n",
       "  </tbody>\n",
       "</table>\n",
       "</div>"
      ],
      "text/plain": [
       "         Breed Name  Size  Avg. Life Span, years  Wanderlust Potential  \\\n",
       "0            Afador     4                     11                     4   \n",
       "1       Affenhuahua     1                     16                     2   \n",
       "2     Affenpinscher     1                     13                     2   \n",
       "3      Afghan Hound     4                     11                     5   \n",
       "4  Airedale Terrier     3                     12                     4   \n",
       "\n",
       "   Adaptability  All Around Friendliness  Health And Grooming Needs  \\\n",
       "0           2.4                     3.00                        3.2   \n",
       "1           3.0                     3.00                        3.2   \n",
       "2           3.2                     3.33                        2.4   \n",
       "3           4.0                     4.67                        2.0   \n",
       "4           2.2                     4.00                        2.4   \n",
       "\n",
       "   Physical Needs  Easy To Train  Kid-Friendly  High-Energy  \\\n",
       "0            4.00          False         False         True   \n",
       "1            3.33          False         False         True   \n",
       "2            3.33          False         False         True   \n",
       "3            3.67          False          True         True   \n",
       "4            4.33           True          True         True   \n",
       "\n",
       "   Good For Novice Owners  \n",
       "0                   False  \n",
       "1                    True  \n",
       "2                    True  \n",
       "3                   False  \n",
       "4                   False  "
      ]
     },
     "execution_count": 15,
     "metadata": {},
     "output_type": "execute_result"
    }
   ],
   "source": [
    "dog_pd.head()"
   ]
  },
  {
   "cell_type": "markdown",
   "id": "disturbed-amount",
   "metadata": {},
   "source": [
    "### Count Values of Binary Variables"
   ]
  },
  {
   "cell_type": "code",
   "execution_count": 16,
   "id": "miniature-myanmar",
   "metadata": {},
   "outputs": [
    {
     "name": "stdout",
     "output_type": "stream",
     "text": [
      "Good for Novice Owners: 116 | 275\n",
      "Easy to Train: 198 | 193\n",
      "Kid-Friendly: 288 | 103\n",
      "High-Energy: 300 | 91\n",
      "of 391\n"
     ]
    }
   ],
   "source": [
    "print(f\"Good for Novice Owners: {np.sum(dog_pd['Good For Novice Owners'])} | {np.sum(~dog_pd['Good For Novice Owners'])}\")\n",
    "print(f\"Easy to Train: {np.sum(dog_pd['Easy To Train'])} | {np.sum(~dog_pd['Easy To Train'])}\")\n",
    "print(f\"Kid-Friendly: {np.sum(dog_pd['Kid-Friendly'])} | {np.sum(~dog_pd['Kid-Friendly'])}\")\n",
    "print(f\"High-Energy: {np.sum(dog_pd['High-Energy'])} | {np.sum(~dog_pd['High-Energy'])}\")\n",
    "# print(f\"Adaptable: {np.sum(dog_pd['Adaptable'])} | {np.sum(~dog_pd['Adaptable'])}\")\n",
    "print(f\"of {dog_pd.shape[0]}\")"
   ]
  },
  {
   "cell_type": "markdown",
   "id": "danish-cursor",
   "metadata": {},
   "source": [
    "### Export Full Data and Just Binary Data"
   ]
  },
  {
   "cell_type": "code",
   "execution_count": 17,
   "id": "loaded-steel",
   "metadata": {},
   "outputs": [],
   "source": [
    "# export full data\n",
    "dog_pd.to_csv(\"lab16data.csv\", index=False)"
   ]
  },
  {
   "cell_type": "code",
   "execution_count": 18,
   "id": "super-fifteen",
   "metadata": {},
   "outputs": [
    {
     "data": {
      "text/html": [
       "<div>\n",
       "<style scoped>\n",
       "    .dataframe tbody tr th:only-of-type {\n",
       "        vertical-align: middle;\n",
       "    }\n",
       "\n",
       "    .dataframe tbody tr th {\n",
       "        vertical-align: top;\n",
       "    }\n",
       "\n",
       "    .dataframe thead th {\n",
       "        text-align: right;\n",
       "    }\n",
       "</style>\n",
       "<table border=\"1\" class=\"dataframe\">\n",
       "  <thead>\n",
       "    <tr style=\"text-align: right;\">\n",
       "      <th></th>\n",
       "      <th>Breed Name</th>\n",
       "      <th>Easy To Train</th>\n",
       "      <th>Kid-Friendly</th>\n",
       "      <th>High-Energy</th>\n",
       "      <th>Good For Novice Owners</th>\n",
       "    </tr>\n",
       "  </thead>\n",
       "  <tbody>\n",
       "    <tr>\n",
       "      <th>0</th>\n",
       "      <td>Afador</td>\n",
       "      <td>False</td>\n",
       "      <td>False</td>\n",
       "      <td>True</td>\n",
       "      <td>False</td>\n",
       "    </tr>\n",
       "    <tr>\n",
       "      <th>1</th>\n",
       "      <td>Affenhuahua</td>\n",
       "      <td>False</td>\n",
       "      <td>False</td>\n",
       "      <td>True</td>\n",
       "      <td>True</td>\n",
       "    </tr>\n",
       "    <tr>\n",
       "      <th>2</th>\n",
       "      <td>Affenpinscher</td>\n",
       "      <td>False</td>\n",
       "      <td>False</td>\n",
       "      <td>True</td>\n",
       "      <td>True</td>\n",
       "    </tr>\n",
       "    <tr>\n",
       "      <th>3</th>\n",
       "      <td>Afghan Hound</td>\n",
       "      <td>False</td>\n",
       "      <td>True</td>\n",
       "      <td>True</td>\n",
       "      <td>False</td>\n",
       "    </tr>\n",
       "    <tr>\n",
       "      <th>4</th>\n",
       "      <td>Airedale Terrier</td>\n",
       "      <td>True</td>\n",
       "      <td>True</td>\n",
       "      <td>True</td>\n",
       "      <td>False</td>\n",
       "    </tr>\n",
       "  </tbody>\n",
       "</table>\n",
       "</div>"
      ],
      "text/plain": [
       "         Breed Name  Easy To Train  Kid-Friendly  High-Energy  \\\n",
       "0            Afador          False         False         True   \n",
       "1       Affenhuahua          False         False         True   \n",
       "2     Affenpinscher          False         False         True   \n",
       "3      Afghan Hound          False          True         True   \n",
       "4  Airedale Terrier           True          True         True   \n",
       "\n",
       "   Good For Novice Owners  \n",
       "0                   False  \n",
       "1                    True  \n",
       "2                    True  \n",
       "3                   False  \n",
       "4                   False  "
      ]
     },
     "execution_count": 18,
     "metadata": {},
     "output_type": "execute_result"
    }
   ],
   "source": [
    "# reduce to binary dataset and export\n",
    "bin_columns =['Breed Name', 'Easy To Train', 'Kid-Friendly', 'High-Energy', 'Good For Novice Owners'] # 'Adaptable'\n",
    "dog_bin = dog_pd[bin_columns]\n",
    "dog_bin.head()"
   ]
  },
  {
   "cell_type": "code",
   "execution_count": 19,
   "id": "reasonable-boston",
   "metadata": {},
   "outputs": [],
   "source": [
    "dog_bin.to_csv(\"lab16data-binary.csv\", index=False)"
   ]
  },
  {
   "cell_type": "markdown",
   "id": "consistent-premises",
   "metadata": {},
   "source": [
    "#### End"
   ]
  }
 ],
 "metadata": {
  "kernelspec": {
   "display_name": "Python 3",
   "language": "python",
   "name": "python3"
  },
  "language_info": {
   "codemirror_mode": {
    "name": "ipython",
    "version": 3
   },
   "file_extension": ".py",
   "mimetype": "text/x-python",
   "name": "python",
   "nbconvert_exporter": "python",
   "pygments_lexer": "ipython3",
   "version": "3.8.2"
  }
 },
 "nbformat": 4,
 "nbformat_minor": 5
}
