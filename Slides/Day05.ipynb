{
 "cells": [
  {
   "cell_type": "markdown",
   "metadata": {
    "slideshow": {
     "slide_type": "slide"
    }
   },
   "source": [
    "# Day 4 & Lab 3\n",
    "\n",
    "Our plan for today is:\n",
    "0. Discuss what _Stopping Conditions_ are and how to use them\n",
    "1. How to use the `sklearn` implementation for k-means\n",
    "2. How do we decide if we have \"good\" clusters?\n"
   ]
  },
  {
   "cell_type": "markdown",
   "metadata": {
    "slideshow": {
     "slide_type": "slide"
    }
   },
   "source": [
    "## Next Week\n",
    "\n",
    "No Tuesday student hours, instead:\n",
    "\n",
    "* Wednesday 10am to Noon\n",
    "* Wednesday after class until 3:55pm \n",
    "* Thursday 1:30pm to 3:30pm"
   ]
  },
  {
   "cell_type": "code",
   "execution_count": null,
   "metadata": {},
   "outputs": [],
   "source": []
  }
 ],
 "metadata": {
  "celltoolbar": "Slideshow",
  "kernelspec": {
   "display_name": "Python 3",
   "language": "python",
   "name": "python3"
  },
  "language_info": {
   "codemirror_mode": {
    "name": "ipython",
    "version": 3
   },
   "file_extension": ".py",
   "mimetype": "text/x-python",
   "name": "python",
   "nbconvert_exporter": "python",
   "pygments_lexer": "ipython3",
   "version": "3.7.3"
  }
 },
 "nbformat": 4,
 "nbformat_minor": 2
}
