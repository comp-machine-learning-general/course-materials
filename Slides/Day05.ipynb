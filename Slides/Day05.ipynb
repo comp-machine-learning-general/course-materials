{
 "cells": [
  {
   "cell_type": "markdown",
   "metadata": {
    "slideshow": {
     "slide_type": "slide"
    }
   },
   "source": [
    "# Day 4 & Lab 3\n",
    "\n",
    "Our plan for today is:\n",
    "1. Using `\n",
    "2. Building a basic `k-means` \n",
    "3. Preview of next time"
   ]
  },
  {
   "cell_type": "markdown",
   "metadata": {
    "slideshow": {
     "slide_type": "slide"
    }
   },
   "source": [
    "## Lab 2\n",
    "\n",
    "Two big goals:\n",
    "1. Articulate the steps of _k-means_ in prose\n",
    "2. Articulate the steps of _k-means_ in code"
   ]
  },
  {
   "cell_type": "markdown",
   "metadata": {
    "slideshow": {
     "slide_type": "slide"
    }
   },
   "source": [
    "## Plan for doing Lab 3\n",
    "\n",
    "* Work for about 10 minutes on getting to know our data\n",
    "  * Check in for about 4 minutes about what we learned     \n",
    "     \n",
    "* Work for 5 minutes on preparing the data\n",
    "  * Check in for about 4 minutes about what we learned\n",
    "* Work for 5 minutes on Step 0\n",
    "  * Check in for about 2 minutes about what we learned      \n",
    "     \n",
    "* Work for 7 minutes on Step 1A\n",
    "  * Check in for about 3 minutes about what we learned\n",
    "* Work for 5 minutes on Step 1B\n",
    "  * Check in for about 2 minutes about what we learned  \n",
    "* Work for 7 minutes on Step 1C\n",
    "  * Check in for about 3 minutes about what we learned\n",
    "  \n",
    "  \n",
    "* Work for 10 minutes on stopping conditions\n",
    "  * Check in for about 5 minutes about what we learned     "
   ]
  },
  {
   "cell_type": "markdown",
   "metadata": {
    "slideshow": {
     "slide_type": "slide"
    }
   },
   "source": [
    "## Next time\n",
    "\n",
    "Finish this lab! \n",
    "\n",
    "`conda` install one thing..."
   ]
  },
  {
   "cell_type": "code",
   "execution_count": null,
   "metadata": {},
   "outputs": [],
   "source": []
  }
 ],
 "metadata": {
  "celltoolbar": "Slideshow",
  "kernelspec": {
   "display_name": "Python 3",
   "language": "python",
   "name": "python3"
  },
  "language_info": {
   "codemirror_mode": {
    "name": "ipython",
    "version": 3
   },
   "file_extension": ".py",
   "mimetype": "text/x-python",
   "name": "python",
   "nbconvert_exporter": "python",
   "pygments_lexer": "ipython3",
   "version": "3.7.3"
  }
 },
 "nbformat": 4,
 "nbformat_minor": 2
}
