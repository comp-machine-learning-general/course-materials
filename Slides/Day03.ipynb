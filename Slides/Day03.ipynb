{
 "cells": [
  {
   "cell_type": "markdown",
   "metadata": {
    "slideshow": {
     "slide_type": "slide"
    }
   },
   "source": [
    "# Day 3 & Lab 2\n",
    "\n",
    "Our plan for today is:\n",
    "1. Take time for syllabus questions\n",
    "2. `git` when to pull and when not to...\n",
    "3. Work the Lab in pieces with discussion between\n",
    "4. Remind ourselves about work due next week"
   ]
  },
  {
   "cell_type": "markdown",
   "metadata": {
    "slideshow": {
     "slide_type": "slide"
    }
   },
   "source": [
    "## Syllabus questions?\n",
    "\n",
    "(up to 10 minutes)"
   ]
  },
  {
   "cell_type": "markdown",
   "metadata": {
    "slideshow": {
     "slide_type": "slide"
    }
   },
   "source": [
    "## Lab 2\n",
    "\n",
    "Our goals are to:\n",
    "1. Use Travis for Continuous Integration\n",
    "2. Use `pandas` to select parts of data, and \n",
    "3. Use `matplotlib`, `pandas`, and `seaborn` to make images.  "
   ]
  },
  {
   "cell_type": "markdown",
   "metadata": {
    "slideshow": {
     "slide_type": "slide"
    }
   },
   "source": [
    "## Plan for doing Lab 2\n",
    "\n",
    "* Work for about 10 minutes on 1. Use Travis for Continuous Integration\n",
    "  * Check in for about 3 minutes about what we learned     \n",
    "     \n",
    "* Work for 10 minutes on **Row** selection\n",
    "  * Check in for about 3 minutes about what we learned\n",
    "* Work for 5 minutes on **Column** selection\n",
    "  * Check in for about 2 minutes about what we learned   \n",
    "  (2. Use `pandas` to select parts of data)     \n",
    "     \n",
    "* Work for 7 minutes on first plots in `matplotlib`\n",
    "  * Check in for about 3 minutes about what we learned\n",
    "* Work for 5 minutes on first plots in `pandas`\n",
    "  * Check in for about 2 minutes about what we learned  \n",
    "* Work for 10 minutes on first plots in `seaborn`\n",
    "  * Check in for about 2 minutes about what we learned     \n",
    "  (3. Use `matplotlib`, `pandas`, and `seaborn` to make images.)"
   ]
  },
  {
   "cell_type": "markdown",
   "metadata": {
    "slideshow": {
     "slide_type": "slide"
    }
   },
   "source": [
    "## Next week\n",
    "\n",
    "What's due? "
   ]
  }
 ],
 "metadata": {
  "celltoolbar": "Slideshow",
  "kernelspec": {
   "display_name": "Python 3",
   "language": "python",
   "name": "python3"
  },
  "language_info": {
   "codemirror_mode": {
    "name": "ipython",
    "version": 3
   },
   "file_extension": ".py",
   "mimetype": "text/x-python",
   "name": "python",
   "nbconvert_exporter": "python",
   "pygments_lexer": "ipython3",
   "version": "3.7.3"
  }
 },
 "nbformat": 4,
 "nbformat_minor": 2
}
