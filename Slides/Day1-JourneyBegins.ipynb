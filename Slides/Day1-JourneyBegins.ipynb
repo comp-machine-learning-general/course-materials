{
 "cells": [
  {
   "cell_type": "markdown",
   "metadata": {
    "slideshow": {
     "slide_type": "slide"
    }
   },
   "source": [
    "# Day 1 - Welcome to the course\n",
    "\n",
    "Today begins our journey in CSC 294: Computational Machine Learning. "
   ]
  },
  {
   "cell_type": "markdown",
   "metadata": {
    "slideshow": {
     "slide_type": "fragment"
    }
   },
   "source": [
    "Today we seek to accomplish the following:\n",
    "* Outline the goals for the course\n",
    "* Discuss how the course will work on a daily and weekly basis\n",
    "* Begin setting up our tools for the course"
   ]
  },
  {
   "cell_type": "markdown",
   "metadata": {
    "slideshow": {
     "slide_type": "slide"
    }
   },
   "source": [
    "## Before we begin...\n",
    "\n",
    "Let's get ready to write for 7 minutes. Put everything away except for a sheet of paper and a writing implement. "
   ]
  },
  {
   "cell_type": "markdown",
   "metadata": {
    "slideshow": {
     "slide_type": "fragment"
    }
   },
   "source": [
    "Think about the strengths that you carry with you. Think about: \n",
    "* Things that you are good at either in or out of school\n",
    "* Things that you like about yourself\n",
    "* Things that make you feel confident\n",
    "\n",
    "Write down at least 5 strengths. For each strength, describe a bit about it and detail why *you* consider it to be a strength. "
   ]
  },
  {
   "cell_type": "markdown",
   "metadata": {
    "slideshow": {
     "slide_type": "fragment"
    }
   },
   "source": [
    "Save these notes somewhere safe and memorable! You will need these for a few assignments throughout the term. "
   ]
  },
  {
   "cell_type": "markdown",
   "metadata": {
    "slideshow": {
     "slide_type": "slide"
    }
   },
   "source": [
    "## Who are we?\n",
    "\n",
    "Take a moment to select a non-human alter-ego that represents you in this moment. Here are a few examples and non-examples:\n",
    "\n",
    "* Non-example: RBG. Example: RBG's dissent lace\n",
    "* Example: Ironman. Non-example: Robert Downey Jr. \n",
    "* Examples: favorite pet, cartoon characters, plants\n",
    "\n",
    "As part of our introductions, please share your non-human alter ego."
   ]
  },
  {
   "cell_type": "markdown",
   "metadata": {
    "slideshow": {
     "slide_type": "slide"
    }
   },
   "source": [
    "## Machine learning?\n",
    "\n",
    "* What is a machine?\n",
    "* What is learning?"
   ]
  },
  {
   "cell_type": "markdown",
   "metadata": {
    "slideshow": {
     "slide_type": "fragment"
    }
   },
   "source": [
    "* What does it mean to teach a machine? \n",
    "* What is machine learning?"
   ]
  },
  {
   "cell_type": "markdown",
   "metadata": {
    "slideshow": {
     "slide_type": "slide"
    }
   },
   "source": [
    "## Motivating Questions\n",
    "\n",
    "1. What is Machine Learning? \n",
    "2. What role does computer science play in machine learning? \n",
    "3. What habits of mind do we need to develop to become machine learning practitioners?"
   ]
  },
  {
   "cell_type": "markdown",
   "metadata": {
    "slideshow": {
     "slide_type": "slide"
    }
   },
   "source": [
    "## Expectations\n",
    "\n",
    "Take 60 - 90 seconds to write down your expectations for CDC 294. You may want to consider the following:\n",
    "\n",
    "* What kinds of activities in and out of the classroom do you expect us to do? \n",
    "* What kinds of things do you expect to learn?\n",
    "* What skills do you hope to gain?"
   ]
  },
  {
   "cell_type": "markdown",
   "metadata": {
    "slideshow": {
     "slide_type": "fragment"
    }
   },
   "source": [
    "Find a person not sitting next to you. Introduce yourself and discuss your expectations for 2 minutes. Pick your favorite 2 to share with everyone. "
   ]
  },
  {
   "cell_type": "markdown",
   "metadata": {
    "slideshow": {
     "slide_type": "slide"
    }
   },
   "source": [
    "## Learning Goals\n",
    "\n",
    "### By the end of the course, students will be able to...\n",
    "1. Detail differences between supervised and unsupervised learning tasks and methods, as well as discuss the issues when dealing with large scale data\n",
    "2. Implement a variety of machine learning algorithms in python and assess their efficacy\n",
    "3. Compare models, and assess the efficacy of machine learning algorithms and results using evaluation metrics and in terms of the context of the data's domain\n",
    "4. Develop an appreciation for ethical implications of machine learning algorithms\n",
    "5. Work collaboratively and reflectively to apply machine learning techniques to a data set of interest with informative documentation, written for a variety of audiences\n"
   ]
  },
  {
   "cell_type": "markdown",
   "metadata": {
    "slideshow": {
     "slide_type": "slide"
    }
   },
   "source": [
    "## Professional Community\n",
    "\n",
    "* Community\n",
    "* Participation\n",
    "* Engagement"
   ]
  },
  {
   "cell_type": "markdown",
   "metadata": {
    "slideshow": {
     "slide_type": "slide"
    }
   },
   "source": [
    "## Inclusion \n",
    "\n",
    "* Student Accommodations\n",
    "  * Let me know as early as possible!\n",
    "* Office of Disability Services\n",
    "* Class Deans"
   ]
  },
  {
   "cell_type": "markdown",
   "metadata": {
    "slideshow": {
     "slide_type": "slide"
    }
   },
   "source": [
    "## A Day in CSC 294\n",
    "\n",
    "* **Before** Class:\n",
    "  * Wrap up the lab from previous class\n",
    "  * Post questions to Slack (and offer ideas to others!)\n",
    "  * Read the assigned reading in pieces\n",
    "  * Make notes in your _Machine Learning notebook_ \n",
    "  * Push and pull on GitHub as needed"
   ]
  },
  {
   "cell_type": "markdown",
   "metadata": {
    "slideshow": {
     "slide_type": "fragment"
    }
   },
   "source": [
    "* **During** Class:\n",
    "  * Ask questions!\n",
    "  * Participate in discussions\n",
    "  * Engage with labs in pairs\n",
    "  * Make notes in your _Machine Learning notebook_ \n",
    "  * Push and pull on GitHub as needed"
   ]
  },
  {
   "cell_type": "markdown",
   "metadata": {
    "slideshow": {
     "slide_type": "fragment"
    }
   },
   "source": [
    "* **After** Class:\n",
    "  * Review questions from before class. Are any remaining? Post those to Slack!\n",
    "  * Re-read notes from class and note where you are in the lab\n",
    "  * Chip away at homework assignments, projects and reading \n",
    "  * Make notes in your _Machine Learning notebook_ \n",
    "  * Push and pull on GitHub as needed"
   ]
  },
  {
   "cell_type": "markdown",
   "metadata": {
    "slideshow": {
     "slide_type": "subslide"
    }
   },
   "source": [
    "## See a pattern? "
   ]
  },
  {
   "cell_type": "markdown",
   "metadata": {
    "slideshow": {
     "slide_type": "fragment"
    }
   },
   "source": [
    "Two of the most important things that we will do all semester is: \n",
    "1. Make notes in our Machine Learning notebooks\n",
    "2. Push and pull on GitHub as needed"
   ]
  },
  {
   "cell_type": "markdown",
   "metadata": {
    "slideshow": {
     "slide_type": "slide"
    }
   },
   "source": [
    "## Machine Learning Notebook\n",
    "\n",
    "* Bound notebook (not spiral)\n",
    "* Goal: Support and facilitate _**your**_ learning:\n",
    "  * Reading notes\n",
    "  * Class notes \n",
    "  * Notes from Labs & Discussions\n",
    "  * Homework notes and ideas"
   ]
  },
  {
   "cell_type": "markdown",
   "metadata": {
    "slideshow": {
     "slide_type": "slide"
    }
   },
   "source": [
    "## Student Hours\n",
    "(aka Office hours)\n",
    "\n",
    "What are they? "
   ]
  },
  {
   "cell_type": "markdown",
   "metadata": {
    "slideshow": {
     "slide_type": "fragment"
    }
   },
   "source": [
    "Time blocked in my calendar for you to:\n",
    "* Ask questions\n",
    "* Hang out and work on assignments\n",
    "* Visit the sheep or robot\n",
    "* Talk about course/major planning"
   ]
  },
  {
   "cell_type": "markdown",
   "metadata": {
    "slideshow": {
     "slide_type": "fragment"
    }
   },
   "source": [
    "Office hours this semester are:\n",
    "* DAY \n",
    "* DAY\n",
    "\n",
    "Appointments can be arranged via a link on the Syllabus"
   ]
  },
  {
   "cell_type": "markdown",
   "metadata": {
    "slideshow": {
     "slide_type": "slide"
    }
   },
   "source": [
    "## Resources Supporting CSC 294\n",
    "\n",
    "* Class\n",
    "* Each other! \n",
    "* Student hours \n",
    "* Slack <sub>(and my email)</sub>\n",
    "* Spinelli QLC"
   ]
  },
  {
   "cell_type": "markdown",
   "metadata": {
    "slideshow": {
     "slide_type": "slide"
    }
   },
   "source": [
    "## Git, GitHub, & GitHubClassroom\n",
    "\n",
    "Most of the course will be managed through git, GitHub, and GitHubClassroom. \n",
    "\n",
    "You will be `pull`ing and `push`ing nearly every day. Thinking of `pull` and `push` as part of your daily routine. "
   ]
  },
  {
   "cell_type": "markdown",
   "metadata": {
    "slideshow": {
     "slide_type": "fragment"
    }
   },
   "source": [
    "__But I've never used git!__\n",
    "\n",
    "No worries! In Lab 0, you will set up everything that you need for the course. "
   ]
  },
  {
   "cell_type": "markdown",
   "metadata": {
    "slideshow": {
     "slide_type": "fragment"
    }
   },
   "source": [
    "Before moving on to Lab 0..."
   ]
  },
  {
   "cell_type": "markdown",
   "metadata": {
    "slideshow": {
     "slide_type": "slide"
    }
   },
   "source": [
    "## Academic Integrity\n",
    "\n",
    "* Why do we care?\n",
    "* Why does Smith College care?\n",
    "* Why does the academy care?"
   ]
  },
  {
   "cell_type": "markdown",
   "metadata": {
    "slideshow": {
     "slide_type": "subslide"
    }
   },
   "source": [
    "### Honor Board vs. \"Real Life\"\n",
    "\n",
    "I am not training you to fear or dodge the honor board. \n",
    "\n",
    "I am training you to be _**excellent**_ in all areas of being a colleague. I want you to have skills in:\n",
    "* Coding and commenting\n",
    "* Working together\n",
    "* Leveraging resources and celebrating others' work that helps you\n",
    "* Being trustworthy"
   ]
  },
  {
   "cell_type": "markdown",
   "metadata": {
    "slideshow": {
     "slide_type": "slide"
    }
   },
   "source": [
    "## Grades\n",
    "\n",
    "All the details are in the syllabus\n",
    "\n",
    "We will have about 10 minutes at the beginning of next class to talk about grades, grading, and policies around submitting assignments. \n",
    "\n",
    "Moral: Post your questions to slack on the **#syllabus** channel"
   ]
  },
  {
   "cell_type": "markdown",
   "metadata": {
    "slideshow": {
     "slide_type": "slide"
    }
   },
   "source": [
    "## For Next Time...\n",
    "\n",
    "* Read the Syllabus\n",
    "* Individual Writing assignment\n",
    "* Use Moodle to find the Detailed Course Schedule:\n",
    "   * Reading assignments\n",
    "   * Lab topics and due dates\n",
    "   * All due dates for the whole semester"
   ]
  },
  {
   "cell_type": "markdown",
   "metadata": {
    "slideshow": {
     "slide_type": "slide"
    }
   },
   "source": [
    "# Lab 0\n",
    "\n",
    "**Finally** \n",
    "\n",
    "How to start is on Moodle"
   ]
  }
 ],
 "metadata": {
  "celltoolbar": "Slideshow",
  "kernelspec": {
   "display_name": "Python 3",
   "language": "python",
   "name": "python3"
  },
  "language_info": {
   "codemirror_mode": {
    "name": "ipython",
    "version": 3
   },
   "file_extension": ".py",
   "mimetype": "text/x-python",
   "name": "python",
   "nbconvert_exporter": "python",
   "pygments_lexer": "ipython3",
   "version": "3.7.3"
  }
 },
 "nbformat": 4,
 "nbformat_minor": 2
}
