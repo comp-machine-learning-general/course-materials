{
 "cells": [
  {
   "cell_type": "markdown",
   "metadata": {
    "slideshow": {
     "slide_type": "slide"
    }
   },
   "source": [
    "# Day 1 - Welcome to the course\n",
    "\n",
    "Today begins our journey in CSC 294: Computational Machine Learning. "
   ]
  },
  {
   "cell_type": "markdown",
   "metadata": {
    "slideshow": {
     "slide_type": "subslide"
    }
   },
   "source": [
    "Today we seek to accomplish the following:\n",
    "* Outline the goals for the course\n",
    "* Discuss how the course will work on a daily and weekly basis\n",
    "* Begin setting up our tools for the course"
   ]
  },
  {
   "cell_type": "markdown",
   "metadata": {
    "slideshow": {
     "slide_type": "slide"
    }
   },
   "source": [
    "## Before we begin...\n",
    "\n",
    "Let's get ready to write for 7 minutes. Put everything away except for a sheet of paper and a writing implement. "
   ]
  },
  {
   "cell_type": "markdown",
   "metadata": {
    "slideshow": {
     "slide_type": "subslide"
    }
   },
   "source": [
    "Think about the strengths that you carry with you. Think about: \n",
    "* Things that you are good at either in or out of school\n",
    "* Things that you like about yourself\n",
    "* Things that make you feel confident\n",
    "\n",
    "Write down at least 5 strengths. For each strength, describe a bit about it and detail why *you* consider it to be a strength. "
   ]
  },
  {
   "cell_type": "markdown",
   "metadata": {
    "slideshow": {
     "slide_type": "subslide"
    }
   },
   "source": [
    "Save these notes somewhere safe and memorable! You will need these for a few assignments throughout the term. "
   ]
  },
  {
   "cell_type": "markdown",
   "metadata": {
    "slideshow": {
     "slide_type": "slide"
    }
   },
   "source": [
    "## Who are we?\n",
    "\n",
    "Take a moment to select a non-human alter-ego that represents you in this moment. Here are a few examples and non-examples:\n",
    "\n",
    "* Non-example: RBG. Example: RBG's dissent lace\n",
    "* Example: Ironman. Non-example: Robert Downey Jr. \n",
    "* Examples: favorite pet, cartoon characters, plants\n",
    "\n",
    "As part of our introductions, please share your non-human alter ego."
   ]
  },
  {
   "cell_type": "markdown",
   "metadata": {
    "slideshow": {
     "slide_type": "subslide"
    }
   },
   "source": [
    "## Expectations\n",
    "\n",
    "Take 60 - 90 seconds to write down your expectations for CDC 294. You may want to consider the following:\n",
    "\n",
    "* What kinds of activities in and out of the classroom do you expect us to do? \n",
    "* What kinds of things do you expect to learn?\n",
    "* What skills do you hope to gain?"
   ]
  },
  {
   "cell_type": "code",
   "execution_count": null,
   "metadata": {},
   "outputs": [],
   "source": []
  }
 ],
 "metadata": {
  "celltoolbar": "Slideshow",
  "kernelspec": {
   "display_name": "Python 3",
   "language": "python",
   "name": "python3"
  },
  "language_info": {
   "codemirror_mode": {
    "name": "ipython",
    "version": 3
   },
   "file_extension": ".py",
   "mimetype": "text/x-python",
   "name": "python",
   "nbconvert_exporter": "python",
   "pygments_lexer": "ipython3",
   "version": "3.7.3"
  }
 },
 "nbformat": 4,
 "nbformat_minor": 2
}
